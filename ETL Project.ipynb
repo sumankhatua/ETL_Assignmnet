{
 "cells": [
  {
   "cell_type": "code",
   "execution_count": 86,
   "id": "461308e4",
   "metadata": {},
   "outputs": [
    {
     "data": {
      "application/vnd.jupyter.widget-view+json": {
       "model_id": "3e3b7153ca6f4629a5d4028f100de375",
       "version_major": 2,
       "version_minor": 0
      },
      "text/plain": [
       "VBox()"
      ]
     },
     "metadata": {},
     "output_type": "display_data"
    },
    {
     "data": {
      "application/vnd.jupyter.widget-view+json": {
       "model_id": "",
       "version_major": 2,
       "version_minor": 0
      },
      "text/plain": [
       "FloatProgress(value=0.0, bar_style='info', description='Progress:', layout=Layout(height='25px', width='50%'),…"
      ]
     },
     "metadata": {},
     "output_type": "display_data"
    }
   ],
   "source": [
    "# Starting pyspark services:\n",
    "\n",
    "sc\n",
    "\n",
    "\n",
    "\n",
    "# importing all required functions \n",
    "\n",
    "\n",
    "import os\n",
    "import sys\n",
    "os.environ[\"PYSPARK_PYTHON\"] = \"/opt/cloudera/parcels/Anaconda/bin/python\"\n",
    "os.environ[\"JAVA_HOME\"] = \"/usr/java/jdk1.8.0_232-cloudera/jre\"\n",
    "os.environ[\"SPARK_HOME\"]=\"/opt/cloudera/parcels/SPARK2-2.3.0.cloudera2-1.cdh5.13.3.p0.316101/lib/spark2/\"\n",
    "os.environ[\"PYLIB\"] = os.environ[\"SPARK_HOME\"] + \"/python/lib\"\n",
    "sys.path.insert(0, os.environ[\"PYLIB\"] +\"/py4j-0.10.6-src.zip\")\n",
    "sys.path.insert(0, os.environ[\"PYLIB\"] +\"/pyspark.zip\")\n",
    "\n",
    "from pyspark.sql import SparkSession\n",
    "\n",
    "from pyspark.sql import *\n",
    "\n",
    "from pyspark.sql.types import StructType, StructField, IntegerType, StringType, BooleanType, DoubleType, LongType\n",
    "\n",
    "\n",
    "\n",
    "from pyspark.sql.types import *\n",
    "from pyspark.sql.window import Window\n",
    "import pyspark.sql.functions as F\n",
    "from pyspark.sql.functions import row_number\n",
    "from pyspark.sql.functions import *"
   ]
  },
  {
   "cell_type": "markdown",
   "id": "ef8004cd",
   "metadata": {},
   "source": [
    "# Creating Schema"
   ]
  },
  {
   "cell_type": "code",
   "execution_count": 3,
   "id": "79338d51",
   "metadata": {},
   "outputs": [
    {
     "data": {
      "application/vnd.jupyter.widget-view+json": {
       "model_id": "826317dc2f5a47cd816c50aab0a21f6d",
       "version_major": 2,
       "version_minor": 0
      },
      "text/plain": [
       "VBox()"
      ]
     },
     "metadata": {},
     "output_type": "display_data"
    },
    {
     "data": {
      "application/vnd.jupyter.widget-view+json": {
       "model_id": "",
       "version_major": 2,
       "version_minor": 0
      },
      "text/plain": [
       "FloatProgress(value=0.0, bar_style='info', description='Progress:', layout=Layout(height='25px', width='50%'),…"
      ]
     },
     "metadata": {},
     "output_type": "display_data"
    }
   ],
   "source": [
    "## Creating Schema according to the data set columns:\n",
    "\n",
    "fileSchema = StructType([StructField('Year', IntegerType(),True),\n",
    "                        StructField('Month', StringType(),True),\n",
    "                        StructField('Day', IntegerType(),True),\n",
    "                        StructField('WeekDay', StringType(),True),\n",
    "                        StructField('Hour', IntegerType(),True),\n",
    "                        StructField('Atm_status', StringType(),True),\n",
    "                        StructField('Atm_id', StringType(),True),\n",
    "                        StructField('Atm_manufacturer', StringType(),True),\n",
    "                        StructField('atm_location', StringType(),True),\n",
    "                        StructField('atm_streetname', StringType(),True),\n",
    "                        StructField('atm_street_number', IntegerType(),True),\n",
    "                        StructField('atm_zipcode', IntegerType(),True),\n",
    "                        StructField('atm_lat', DecimalType(10,3),True),\n",
    "                        StructField('atm_lon', DecimalType(10,3),True),\n",
    "                        StructField('currency', StringType(),True),\n",
    "                        StructField('card_type', StringType(),True),\n",
    "                        StructField('transaction_amount', IntegerType(),True), \n",
    "                        StructField('service', StringType(),True),\n",
    "                        StructField('message_code', StringType(),True),\n",
    "                        StructField('message_text', StringType(),True),\n",
    "                        StructField('weather_lat', DoubleType(),True),\n",
    "                        StructField('weather_lon', DoubleType(),True),\n",
    "                        StructField('weather_city_id', IntegerType(),True),\n",
    "                        StructField('weather_city_name', StringType(),True), \n",
    "                        StructField('temp', DoubleType(),True),\n",
    "                        StructField('pressure', IntegerType(),True), \n",
    "\t\t\t\t\t\tStructField('humidity', IntegerType(),True), \n",
    "\t\t\t\t\t\tStructField('wind_speed', IntegerType(),True), \n",
    "\t\t\t\t\t\tStructField('wind_deg', IntegerType(),True), \n",
    "\t\t\t\t\t\tStructField('rain_3h', DoubleType(),True), \n",
    "\t\t\t\t\t\tStructField('clouds_all', IntegerType(),True), \n",
    "\t\t\t\t\t\tStructField('weather_id', IntegerType(),True), \n",
    "\t\t\t\t\t\tStructField('weather_main', StringType(),True), \n",
    "\t\t\t\t\t\tStructField('weather_description', StringType(),True)\n",
    "                        ])"
   ]
  },
  {
   "cell_type": "markdown",
   "id": "f3574d7a",
   "metadata": {},
   "source": [
    "# Loading the data set"
   ]
  },
  {
   "cell_type": "code",
   "execution_count": 4,
   "id": "95020956",
   "metadata": {},
   "outputs": [
    {
     "data": {
      "application/vnd.jupyter.widget-view+json": {
       "model_id": "4d97304be7ae44b2984fa0e89870144b",
       "version_major": 2,
       "version_minor": 0
      },
      "text/plain": [
       "VBox()"
      ]
     },
     "metadata": {},
     "output_type": "display_data"
    },
    {
     "data": {
      "application/vnd.jupyter.widget-view+json": {
       "model_id": "",
       "version_major": 2,
       "version_minor": 0
      },
      "text/plain": [
       "FloatProgress(value=0.0, bar_style='info', description='Progress:', layout=Layout(height='25px', width='50%'),…"
      ]
     },
     "metadata": {},
     "output_type": "display_data"
    }
   ],
   "source": [
    "# Importing the data in df data frame:\n",
    "\n",
    "df = spark.read.csv(\"/user/root/transections/part-m-00000\", header = False, schema = fileSchema)"
   ]
  },
  {
   "cell_type": "code",
   "execution_count": 5,
   "id": "de17b3d9",
   "metadata": {},
   "outputs": [
    {
     "data": {
      "application/vnd.jupyter.widget-view+json": {
       "model_id": "715455c87712413ba191a715a06fc1d0",
       "version_major": 2,
       "version_minor": 0
      },
      "text/plain": [
       "VBox()"
      ]
     },
     "metadata": {},
     "output_type": "display_data"
    },
    {
     "data": {
      "application/vnd.jupyter.widget-view+json": {
       "model_id": "",
       "version_major": 2,
       "version_minor": 0
      },
      "text/plain": [
       "FloatProgress(value=0.0, bar_style='info', description='Progress:', layout=Layout(height='25px', width='50%'),…"
      ]
     },
     "metadata": {},
     "output_type": "display_data"
    },
    {
     "name": "stdout",
     "output_type": "stream",
     "text": [
      "+----+-------+---+\n",
      "|Year|  Month|Day|\n",
      "+----+-------+---+\n",
      "|2017|January|  1|\n",
      "|2017|January|  1|\n",
      "|2017|January|  1|\n",
      "|2017|January|  1|\n",
      "|2017|January|  1|\n",
      "|2017|January|  1|\n",
      "|2017|January|  1|\n",
      "|2017|January|  1|\n",
      "|2017|January|  1|\n",
      "|2017|January|  1|\n",
      "|2017|January|  1|\n",
      "|2017|January|  1|\n",
      "|2017|January|  1|\n",
      "|2017|January|  1|\n",
      "|2017|January|  1|\n",
      "|2017|January|  1|\n",
      "|2017|January|  1|\n",
      "|2017|January|  1|\n",
      "|2017|January|  1|\n",
      "|2017|January|  1|\n",
      "+----+-------+---+\n",
      "only showing top 20 rows"
     ]
    }
   ],
   "source": [
    "# testing the format of the data to be sure that we have it correctly:\n",
    "\n",
    "df.select(\"Year\", \"Month\", \"Day\").show()"
   ]
  },
  {
   "cell_type": "code",
   "execution_count": 6,
   "id": "8d526795",
   "metadata": {},
   "outputs": [
    {
     "data": {
      "application/vnd.jupyter.widget-view+json": {
       "model_id": "9bcefc78ea4b489e8f680f8069ef2296",
       "version_major": 2,
       "version_minor": 0
      },
      "text/plain": [
       "VBox()"
      ]
     },
     "metadata": {},
     "output_type": "display_data"
    },
    {
     "data": {
      "application/vnd.jupyter.widget-view+json": {
       "model_id": "",
       "version_major": 2,
       "version_minor": 0
      },
      "text/plain": [
       "FloatProgress(value=0.0, bar_style='info', description='Progress:', layout=Layout(height='25px', width='50%'),…"
      ]
     },
     "metadata": {},
     "output_type": "display_data"
    },
    {
     "name": "stdout",
     "output_type": "stream",
     "text": [
      "2468572"
     ]
    }
   ],
   "source": [
    "# veryfing data count:\n",
    "\n",
    "df.count()"
   ]
  },
  {
   "cell_type": "code",
   "execution_count": 7,
   "id": "09917412",
   "metadata": {},
   "outputs": [
    {
     "data": {
      "application/vnd.jupyter.widget-view+json": {
       "model_id": "d866a878ca614fdeae32f87f418463b5",
       "version_major": 2,
       "version_minor": 0
      },
      "text/plain": [
       "VBox()"
      ]
     },
     "metadata": {},
     "output_type": "display_data"
    },
    {
     "data": {
      "application/vnd.jupyter.widget-view+json": {
       "model_id": "",
       "version_major": 2,
       "version_minor": 0
      },
      "text/plain": [
       "FloatProgress(value=0.0, bar_style='info', description='Progress:', layout=Layout(height='25px', width='50%'),…"
      ]
     },
     "metadata": {},
     "output_type": "display_data"
    },
    {
     "name": "stdout",
     "output_type": "stream",
     "text": [
      "root\n",
      " |-- Year: integer (nullable = true)\n",
      " |-- Month: string (nullable = true)\n",
      " |-- Day: integer (nullable = true)\n",
      " |-- WeekDay: string (nullable = true)\n",
      " |-- Hour: integer (nullable = true)\n",
      " |-- Atm_status: string (nullable = true)\n",
      " |-- Atm_id: string (nullable = true)\n",
      " |-- Atm_manufacturer: string (nullable = true)\n",
      " |-- atm_location: string (nullable = true)\n",
      " |-- atm_streetname: string (nullable = true)\n",
      " |-- atm_street_number: integer (nullable = true)\n",
      " |-- atm_zipcode: integer (nullable = true)\n",
      " |-- atm_lat: decimal(10,3) (nullable = true)\n",
      " |-- atm_lon: decimal(10,3) (nullable = true)\n",
      " |-- currency: string (nullable = true)\n",
      " |-- card_type: string (nullable = true)\n",
      " |-- transaction_amount: integer (nullable = true)\n",
      " |-- service: string (nullable = true)\n",
      " |-- message_code: string (nullable = true)\n",
      " |-- message_text: string (nullable = true)\n",
      " |-- weather_lat: double (nullable = true)\n",
      " |-- weather_lon: double (nullable = true)\n",
      " |-- weather_city_id: integer (nullable = true)\n",
      " |-- weather_city_name: string (nullable = true)\n",
      " |-- temp: double (nullable = true)\n",
      " |-- pressure: integer (nullable = true)\n",
      " |-- humidity: integer (nullable = true)\n",
      " |-- wind_speed: integer (nullable = true)\n",
      " |-- wind_deg: integer (nullable = true)\n",
      " |-- rain_3h: double (nullable = true)\n",
      " |-- clouds_all: integer (nullable = true)\n",
      " |-- weather_id: integer (nullable = true)\n",
      " |-- weather_main: string (nullable = true)\n",
      " |-- weather_description: string (nullable = true)"
     ]
    }
   ],
   "source": [
    "# checking schema status:\n",
    "\n",
    "df.printSchema()"
   ]
  },
  {
   "cell_type": "code",
   "execution_count": 8,
   "id": "1bdc365d",
   "metadata": {},
   "outputs": [
    {
     "data": {
      "application/vnd.jupyter.widget-view+json": {
       "model_id": "65dc0e82b1af4be7a99f6560ed4745d9",
       "version_major": 2,
       "version_minor": 0
      },
      "text/plain": [
       "VBox()"
      ]
     },
     "metadata": {},
     "output_type": "display_data"
    },
    {
     "data": {
      "application/vnd.jupyter.widget-view+json": {
       "model_id": "",
       "version_major": 2,
       "version_minor": 0
      },
      "text/plain": [
       "FloatProgress(value=0.0, bar_style='info', description='Progress:', layout=Layout(height='25px', width='50%'),…"
      ]
     },
     "metadata": {},
     "output_type": "display_data"
    },
    {
     "name": "stdout",
     "output_type": "stream",
     "text": [
      "['Year', 'Month', 'Day', 'WeekDay', 'Hour', 'Atm_status', 'Atm_id', 'Atm_manufacturer', 'atm_location', 'atm_streetname', 'atm_street_number', 'atm_zipcode', 'atm_lat', 'atm_lon', 'currency', 'card_type', 'transaction_amount', 'service', 'message_code', 'message_text', 'weather_lat', 'weather_lon', 'weather_city_id', 'weather_city_name', 'temp', 'pressure', 'humidity', 'wind_speed', 'wind_deg', 'rain_3h', 'clouds_all', 'weather_id', 'weather_main', 'weather_description']"
     ]
    }
   ],
   "source": [
    "# checking all columns names:\n",
    "\n",
    "df.columns"
   ]
  },
  {
   "cell_type": "code",
   "execution_count": 9,
   "id": "0a94a608",
   "metadata": {
    "scrolled": true
   },
   "outputs": [
    {
     "data": {
      "application/vnd.jupyter.widget-view+json": {
       "model_id": "24a8898f86d749bba64576623036dc01",
       "version_major": 2,
       "version_minor": 0
      },
      "text/plain": [
       "VBox()"
      ]
     },
     "metadata": {},
     "output_type": "display_data"
    },
    {
     "data": {
      "application/vnd.jupyter.widget-view+json": {
       "model_id": "",
       "version_major": 2,
       "version_minor": 0
      },
      "text/plain": [
       "FloatProgress(value=0.0, bar_style='info', description='Progress:', layout=Layout(height='25px', width='50%'),…"
      ]
     },
     "metadata": {},
     "output_type": "display_data"
    },
    {
     "name": "stdout",
     "output_type": "stream",
     "text": [
      "109"
     ]
    }
   ],
   "source": [
    "## Creating Location:\n",
    "\n",
    "location = df.select(\"atm_location\", \"atm_streetname\", 'atm_street_number','atm_zipcode','atm_lat','atm_lon').distinct()\n",
    "\n",
    "# checking count to verify:\n",
    "\n",
    "location.count()"
   ]
  },
  {
   "cell_type": "code",
   "execution_count": 10,
   "id": "c138a10b",
   "metadata": {},
   "outputs": [
    {
     "data": {
      "application/vnd.jupyter.widget-view+json": {
       "model_id": "21459bfc1d02449ba27e78c7d70805ee",
       "version_major": 2,
       "version_minor": 0
      },
      "text/plain": [
       "VBox()"
      ]
     },
     "metadata": {},
     "output_type": "display_data"
    },
    {
     "data": {
      "application/vnd.jupyter.widget-view+json": {
       "model_id": "",
       "version_major": 2,
       "version_minor": 0
      },
      "text/plain": [
       "FloatProgress(value=0.0, bar_style='info', description='Progress:', layout=Layout(height='25px', width='50%'),…"
      ]
     },
     "metadata": {},
     "output_type": "display_data"
    }
   ],
   "source": [
    "# Creating location_dimension set:\n",
    "\n",
    "Location_Dim = location.select(\"atm_location\",\"atm_streetname\",\"atm_street_number\",\"atm_zipcode\",\"atm_lat\",\"atm_lon\",F.row_number().over(Window.partitionBy().orderBy(location['atm_location'])).alias(\"Location_ID\"))"
   ]
  },
  {
   "cell_type": "code",
   "execution_count": 11,
   "id": "45ec6471",
   "metadata": {},
   "outputs": [
    {
     "data": {
      "application/vnd.jupyter.widget-view+json": {
       "model_id": "5bcd43850e1442afbd6d934424b7cd8e",
       "version_major": 2,
       "version_minor": 0
      },
      "text/plain": [
       "VBox()"
      ]
     },
     "metadata": {},
     "output_type": "display_data"
    },
    {
     "data": {
      "application/vnd.jupyter.widget-view+json": {
       "model_id": "",
       "version_major": 2,
       "version_minor": 0
      },
      "text/plain": [
       "FloatProgress(value=0.0, bar_style='info', description='Progress:', layout=Layout(height='25px', width='50%'),…"
      ]
     },
     "metadata": {},
     "output_type": "display_data"
    },
    {
     "name": "stdout",
     "output_type": "stream",
     "text": [
      "109"
     ]
    }
   ],
   "source": [
    "Location_Dim.count()"
   ]
  },
  {
   "cell_type": "code",
   "execution_count": 12,
   "id": "4abada48",
   "metadata": {},
   "outputs": [
    {
     "data": {
      "application/vnd.jupyter.widget-view+json": {
       "model_id": "c1ece90326a3403d82ce3d0d86765dcb",
       "version_major": 2,
       "version_minor": 0
      },
      "text/plain": [
       "VBox()"
      ]
     },
     "metadata": {},
     "output_type": "display_data"
    },
    {
     "data": {
      "application/vnd.jupyter.widget-view+json": {
       "model_id": "",
       "version_major": 2,
       "version_minor": 0
      },
      "text/plain": [
       "FloatProgress(value=0.0, bar_style='info', description='Progress:', layout=Layout(height='25px', width='50%'),…"
      ]
     },
     "metadata": {},
     "output_type": "display_data"
    },
    {
     "name": "stdout",
     "output_type": "stream",
     "text": [
      "109"
     ]
    }
   ],
   "source": [
    "Location_Dim.select('Location_Id').count()"
   ]
  },
  {
   "cell_type": "code",
   "execution_count": 13,
   "id": "8082e14e",
   "metadata": {},
   "outputs": [
    {
     "data": {
      "application/vnd.jupyter.widget-view+json": {
       "model_id": "0ea0e82a723b4a639fe0adaad5329269",
       "version_major": 2,
       "version_minor": 0
      },
      "text/plain": [
       "VBox()"
      ]
     },
     "metadata": {},
     "output_type": "display_data"
    },
    {
     "data": {
      "application/vnd.jupyter.widget-view+json": {
       "model_id": "",
       "version_major": 2,
       "version_minor": 0
      },
      "text/plain": [
       "FloatProgress(value=0.0, bar_style='info', description='Progress:', layout=Layout(height='25px', width='50%'),…"
      ]
     },
     "metadata": {},
     "output_type": "display_data"
    },
    {
     "name": "stdout",
     "output_type": "stream",
     "text": [
      "+--------------------+------------------+-----------------+-----------+-------+-------+-----------+\n",
      "|        atm_location|    atm_streetname|atm_street_number|atm_zipcode|atm_lat|atm_lon|Location_ID|\n",
      "+--------------------+------------------+-----------------+-----------+-------+-------+-----------+\n",
      "|             Aabybro|      ÃƒËœstergade|                6|       9440| 57.162|  9.730|          1|\n",
      "|      Aalborg Hallen|      Europa Plads|                4|       9000| 57.044|  9.913|          2|\n",
      "|Aalborg Storcente...|          Hobrovej|              452|       9200| 57.005|  9.876|          3|\n",
      "|Aalborg Storcente...|          Hobrovej|              452|       9200| 57.005|  9.876|          4|\n",
      "|         Aalborg Syd|          Hobrovej|              440|       9200| 57.005|  9.881|          5|\n",
      "|           AalbÃƒÂ¦k|        Centralvej|                5|       9982| 57.593| 10.412|          6|\n",
      "|              Aarhus|    SÃƒÂ¸nder Alle|               11|       8000| 56.153| 10.206|          7|\n",
      "|              Aarhus|        Ceres Byen|               75|       8000| 56.157| 10.194|          8|\n",
      "|     Aarhus Lufthavn|   Ny Lufthavnsvej|               24|       8560| 56.308| 10.627|          9|\n",
      "|                Aars|   Himmerlandsgade|               70|       9600| 56.803|  9.518|         10|\n",
      "|          Abildgaard|    HjÃƒÂ¸rringvej|              144|       9900| 57.447| 10.506|         11|\n",
      "|               Arden|        Vestergade|                6|       9510| 56.769|  9.859|         12|\n",
      "|            Bindslev|       NÃƒÂ¸rrebro|               18|       9881| 57.541| 10.200|         13|\n",
      "|         Bispensgade|       Bispensgade|               35|       9800| 57.453|  9.996|         14|\n",
      "|         Brugsen ANS|SÃƒÂ¸ndermarksgade|               14|       8643| 56.306|  9.594|         15|\n",
      "|     Brugsen i Breum|     AakjÃƒÂ¦rsvej|                1|       7870| 56.688|  9.069|         16|\n",
      "|      Bryggen  Vejle|  SÃƒÂ¸nderbrogade|                2|       7100| 55.705|  9.532|         17|\n",
      "|      BrÃƒÂ¸nderslev|            Algade|                4|       9700| 57.269|  9.945|         18|\n",
      "|    DAYZ Feriecenter|        LivÃƒÂ¸vej|               80|       9681| 56.893|  9.171|         19|\n",
      "|Daglig Brugsen Ãƒ...|         Kystvejen|               51|       9560| 56.804| 10.271|         20|\n",
      "+--------------------+------------------+-----------------+-----------+-------+-------+-----------+\n",
      "only showing top 20 rows"
     ]
    }
   ],
   "source": [
    "# verifying the data:\n",
    "\n",
    "Location_Dim.show()"
   ]
  },
  {
   "cell_type": "code",
   "execution_count": 14,
   "id": "ebd19ced",
   "metadata": {},
   "outputs": [
    {
     "data": {
      "application/vnd.jupyter.widget-view+json": {
       "model_id": "9a9876e720344c98a4f46e9213b662cc",
       "version_major": 2,
       "version_minor": 0
      },
      "text/plain": [
       "VBox()"
      ]
     },
     "metadata": {},
     "output_type": "display_data"
    },
    {
     "data": {
      "application/vnd.jupyter.widget-view+json": {
       "model_id": "",
       "version_major": 2,
       "version_minor": 0
      },
      "text/plain": [
       "FloatProgress(value=0.0, bar_style='info', description='Progress:', layout=Layout(height='25px', width='50%'),…"
      ]
     },
     "metadata": {},
     "output_type": "display_data"
    },
    {
     "name": "stdout",
     "output_type": "stream",
     "text": [
      "root\n",
      " |-- atm_location: string (nullable = true)\n",
      " |-- atm_streetname: string (nullable = true)\n",
      " |-- atm_street_number: integer (nullable = true)\n",
      " |-- atm_zipcode: integer (nullable = true)\n",
      " |-- atm_lat: decimal(10,3) (nullable = true)\n",
      " |-- atm_lon: decimal(10,3) (nullable = true)\n",
      " |-- Location_ID: integer (nullable = true)"
     ]
    }
   ],
   "source": [
    "# Checking schema:\n",
    "\n",
    "Location_Dim.printSchema()"
   ]
  },
  {
   "cell_type": "code",
   "execution_count": 15,
   "id": "fc60a7dc",
   "metadata": {},
   "outputs": [
    {
     "data": {
      "application/vnd.jupyter.widget-view+json": {
       "model_id": "847578631e0943089b91f09cbeeedcef",
       "version_major": 2,
       "version_minor": 0
      },
      "text/plain": [
       "VBox()"
      ]
     },
     "metadata": {},
     "output_type": "display_data"
    },
    {
     "data": {
      "application/vnd.jupyter.widget-view+json": {
       "model_id": "",
       "version_major": 2,
       "version_minor": 0
      },
      "text/plain": [
       "FloatProgress(value=0.0, bar_style='info', description='Progress:', layout=Layout(height='25px', width='50%'),…"
      ]
     },
     "metadata": {},
     "output_type": "display_data"
    },
    {
     "name": "stdout",
     "output_type": "stream",
     "text": [
      "+--------------------+\n",
      "|           card_type|\n",
      "+--------------------+\n",
      "|Visa Dankort - on-us|\n",
      "|  Mastercard - on-us|\n",
      "|         HÃƒÂ¦vekort|\n",
      "|            VisaPlus|\n",
      "|     Dankort - on-us|\n",
      "|        Visa Dankort|\n",
      "| HÃƒÂ¦vekort - on-us|\n",
      "|              CIRRUS|\n",
      "|                VISA|\n",
      "|             Maestro|\n",
      "|          MasterCard|\n",
      "|             Dankort|\n",
      "+--------------------+"
     ]
    }
   ],
   "source": [
    "# Creating Card type dimension:\n",
    "\n",
    "card = df.select(\"card_type\").distinct()\n",
    "\n",
    "card.show()"
   ]
  },
  {
   "cell_type": "code",
   "execution_count": 16,
   "id": "82d1508a",
   "metadata": {},
   "outputs": [
    {
     "data": {
      "application/vnd.jupyter.widget-view+json": {
       "model_id": "cda3409ee74a4a5a94283da7351184de",
       "version_major": 2,
       "version_minor": 0
      },
      "text/plain": [
       "VBox()"
      ]
     },
     "metadata": {},
     "output_type": "display_data"
    },
    {
     "data": {
      "application/vnd.jupyter.widget-view+json": {
       "model_id": "",
       "version_major": 2,
       "version_minor": 0
      },
      "text/plain": [
       "FloatProgress(value=0.0, bar_style='info', description='Progress:', layout=Layout(height='25px', width='50%'),…"
      ]
     },
     "metadata": {},
     "output_type": "display_data"
    },
    {
     "name": "stdout",
     "output_type": "stream",
     "text": [
      "+-------------------+-----------+\n",
      "|          card_type|CardType_ID|\n",
      "+-------------------+-----------+\n",
      "|             CIRRUS|          1|\n",
      "|            Dankort|          2|\n",
      "|    Dankort - on-us|          3|\n",
      "|        HÃƒÂ¦vekort|          4|\n",
      "|HÃƒÂ¦vekort - on-us|          5|\n",
      "|            Maestro|          6|\n",
      "|         MasterCard|          7|\n",
      "| Mastercard - on-us|          8|\n",
      "|               VISA|          9|\n",
      "|       Visa Dankort|         10|\n",
      "+-------------------+-----------+\n",
      "only showing top 10 rows"
     ]
    }
   ],
   "source": [
    "# Creating CardType_Dim:\n",
    "\n",
    "\n",
    "CardType_Dim = card.select(\"card_type\",F.row_number().over(Window.partitionBy().orderBy(card['card_type'])).alias(\"CardType_ID\"))\n",
    "\n",
    "CardType_Dim.show(10)"
   ]
  },
  {
   "cell_type": "code",
   "execution_count": 17,
   "id": "58280091",
   "metadata": {},
   "outputs": [
    {
     "data": {
      "application/vnd.jupyter.widget-view+json": {
       "model_id": "d9d78c6a56334f46b1b2e49821a62dc4",
       "version_major": 2,
       "version_minor": 0
      },
      "text/plain": [
       "VBox()"
      ]
     },
     "metadata": {},
     "output_type": "display_data"
    },
    {
     "data": {
      "application/vnd.jupyter.widget-view+json": {
       "model_id": "",
       "version_major": 2,
       "version_minor": 0
      },
      "text/plain": [
       "FloatProgress(value=0.0, bar_style='info', description='Progress:', layout=Layout(height='25px', width='50%'),…"
      ]
     },
     "metadata": {},
     "output_type": "display_data"
    },
    {
     "name": "stdout",
     "output_type": "stream",
     "text": [
      "+--------------------+-----+\n",
      "|           card_type|count|\n",
      "+--------------------+-----+\n",
      "|Visa Dankort - on-us|    1|\n",
      "|  Mastercard - on-us|    1|\n",
      "|         HÃƒÂ¦vekort|    1|\n",
      "|            VisaPlus|    1|\n",
      "|     Dankort - on-us|    1|\n",
      "|        Visa Dankort|    1|\n",
      "| HÃƒÂ¦vekort - on-us|    1|\n",
      "|              CIRRUS|    1|\n",
      "|                VISA|    1|\n",
      "|             Maestro|    1|\n",
      "|          MasterCard|    1|\n",
      "|             Dankort|    1|\n",
      "+--------------------+-----+"
     ]
    }
   ],
   "source": [
    "# Checking the count to make sure we have correct data:\n",
    "\n",
    "CardType_Dim.groupBy(\"card_type\").count().show()"
   ]
  },
  {
   "cell_type": "code",
   "execution_count": 18,
   "id": "14729131",
   "metadata": {},
   "outputs": [
    {
     "data": {
      "application/vnd.jupyter.widget-view+json": {
       "model_id": "d165d58f12744a75ab5fcf9ef7fa0279",
       "version_major": 2,
       "version_minor": 0
      },
      "text/plain": [
       "VBox()"
      ]
     },
     "metadata": {},
     "output_type": "display_data"
    },
    {
     "data": {
      "application/vnd.jupyter.widget-view+json": {
       "model_id": "",
       "version_major": 2,
       "version_minor": 0
      },
      "text/plain": [
       "FloatProgress(value=0.0, bar_style='info', description='Progress:', layout=Layout(height='25px', width='50%'),…"
      ]
     },
     "metadata": {},
     "output_type": "display_data"
    },
    {
     "name": "stdout",
     "output_type": "stream",
     "text": [
      "root\n",
      " |-- card_type: string (nullable = true)\n",
      " |-- CardType_ID: integer (nullable = true)"
     ]
    }
   ],
   "source": [
    "# checking schema:\n",
    "\n",
    "CardType_Dim.printSchema()"
   ]
  },
  {
   "cell_type": "code",
   "execution_count": 19,
   "id": "a71f2b60",
   "metadata": {},
   "outputs": [
    {
     "data": {
      "application/vnd.jupyter.widget-view+json": {
       "model_id": "f79336460d774fe0a710e6ad02a35078",
       "version_major": 2,
       "version_minor": 0
      },
      "text/plain": [
       "VBox()"
      ]
     },
     "metadata": {},
     "output_type": "display_data"
    },
    {
     "data": {
      "application/vnd.jupyter.widget-view+json": {
       "model_id": "",
       "version_major": 2,
       "version_minor": 0
      },
      "text/plain": [
       "FloatProgress(value=0.0, bar_style='info', description='Progress:', layout=Layout(height='25px', width='50%'),…"
      ]
     },
     "metadata": {},
     "output_type": "display_data"
    }
   ],
   "source": [
    "Date=df.select('Year','Month','Day','Hour','Weekday').distinct()"
   ]
  },
  {
   "cell_type": "code",
   "execution_count": 20,
   "id": "dc3c086e",
   "metadata": {},
   "outputs": [
    {
     "data": {
      "application/vnd.jupyter.widget-view+json": {
       "model_id": "81f7adda973a4e84afc860e209592833",
       "version_major": 2,
       "version_minor": 0
      },
      "text/plain": [
       "VBox()"
      ]
     },
     "metadata": {},
     "output_type": "display_data"
    },
    {
     "data": {
      "application/vnd.jupyter.widget-view+json": {
       "model_id": "",
       "version_major": 2,
       "version_minor": 0
      },
      "text/plain": [
       "FloatProgress(value=0.0, bar_style='info', description='Progress:', layout=Layout(height='25px', width='50%'),…"
      ]
     },
     "metadata": {},
     "output_type": "display_data"
    },
    {
     "name": "stdout",
     "output_type": "stream",
     "text": [
      "+----+-----+---+----+--------+\n",
      "|Year|Month|Day|Hour| Weekday|\n",
      "+----+-----+---+----+--------+\n",
      "|2017|April| 15|  19|Saturday|\n",
      "|2017|April| 17|   4|  Monday|\n",
      "+----+-----+---+----+--------+\n",
      "only showing top 2 rows"
     ]
    }
   ],
   "source": [
    "Date.show(2)"
   ]
  },
  {
   "cell_type": "code",
   "execution_count": 21,
   "id": "be33bd24",
   "metadata": {},
   "outputs": [
    {
     "data": {
      "application/vnd.jupyter.widget-view+json": {
       "model_id": "9759e3506f68443bbc0405215c4c388c",
       "version_major": 2,
       "version_minor": 0
      },
      "text/plain": [
       "VBox()"
      ]
     },
     "metadata": {},
     "output_type": "display_data"
    },
    {
     "data": {
      "application/vnd.jupyter.widget-view+json": {
       "model_id": "",
       "version_major": 2,
       "version_minor": 0
      },
      "text/plain": [
       "FloatProgress(value=0.0, bar_style='info', description='Progress:', layout=Layout(height='25px', width='50%'),…"
      ]
     },
     "metadata": {},
     "output_type": "display_data"
    }
   ],
   "source": [
    "# creating month_num\n",
    "\n",
    "Date_1=Date.withColumn(\"Month_Num\",from_unixtime(unix_timestamp(col(\"Month\"),'MMM'),'MM'))"
   ]
  },
  {
   "cell_type": "code",
   "execution_count": 22,
   "id": "bfbc7fdd",
   "metadata": {},
   "outputs": [
    {
     "data": {
      "application/vnd.jupyter.widget-view+json": {
       "model_id": "a923d9abac554d69a40ba513b2f8b93d",
       "version_major": 2,
       "version_minor": 0
      },
      "text/plain": [
       "VBox()"
      ]
     },
     "metadata": {},
     "output_type": "display_data"
    },
    {
     "data": {
      "application/vnd.jupyter.widget-view+json": {
       "model_id": "",
       "version_major": 2,
       "version_minor": 0
      },
      "text/plain": [
       "FloatProgress(value=0.0, bar_style='info', description='Progress:', layout=Layout(height='25px', width='50%'),…"
      ]
     },
     "metadata": {},
     "output_type": "display_data"
    }
   ],
   "source": [
    "# creating full_date_time\n",
    "\n",
    "Date_2=Date_1.withColumn(\"full_date_time\",concat_ws(\"-\",col(\"Year\"),col(\"Month_Num\"),col(\"Day\")).cast(\"timestamp\"))"
   ]
  },
  {
   "cell_type": "code",
   "execution_count": 23,
   "id": "98f6aa98",
   "metadata": {},
   "outputs": [
    {
     "data": {
      "application/vnd.jupyter.widget-view+json": {
       "model_id": "6db49d3cce224de898c84a5e6544c5a8",
       "version_major": 2,
       "version_minor": 0
      },
      "text/plain": [
       "VBox()"
      ]
     },
     "metadata": {},
     "output_type": "display_data"
    },
    {
     "data": {
      "application/vnd.jupyter.widget-view+json": {
       "model_id": "",
       "version_major": 2,
       "version_minor": 0
      },
      "text/plain": [
       "FloatProgress(value=0.0, bar_style='info', description='Progress:', layout=Layout(height='25px', width='50%'),…"
      ]
     },
     "metadata": {},
     "output_type": "display_data"
    }
   ],
   "source": [
    "# creating date_dimension table:\n",
    "\n",
    "Date_Dim = Date_2.select(\"Year\",\"Month\",\"Day\",\"Hour\",\"Weekday\",\"full_date_time\",F.row_number().over(Window.partitionBy().orderBy(Date_2['full_date_time'])).alias(\"Date_ID\"))"
   ]
  },
  {
   "cell_type": "code",
   "execution_count": 24,
   "id": "31ddb00e",
   "metadata": {},
   "outputs": [
    {
     "data": {
      "application/vnd.jupyter.widget-view+json": {
       "model_id": "9ced80bc3e4e458e98383c97a0d69e63",
       "version_major": 2,
       "version_minor": 0
      },
      "text/plain": [
       "VBox()"
      ]
     },
     "metadata": {},
     "output_type": "display_data"
    },
    {
     "data": {
      "application/vnd.jupyter.widget-view+json": {
       "model_id": "",
       "version_major": 2,
       "version_minor": 0
      },
      "text/plain": [
       "FloatProgress(value=0.0, bar_style='info', description='Progress:', layout=Layout(height='25px', width='50%'),…"
      ]
     },
     "metadata": {},
     "output_type": "display_data"
    },
    {
     "name": "stdout",
     "output_type": "stream",
     "text": [
      "8685"
     ]
    }
   ],
   "source": [
    "# Validating the count:\n",
    "\n",
    "Date_Dim.select('Date_ID').distinct().count()"
   ]
  },
  {
   "cell_type": "code",
   "execution_count": 25,
   "id": "23688fbe",
   "metadata": {},
   "outputs": [
    {
     "data": {
      "application/vnd.jupyter.widget-view+json": {
       "model_id": "ffb9a21914ce4400a1b7d4d92b440338",
       "version_major": 2,
       "version_minor": 0
      },
      "text/plain": [
       "VBox()"
      ]
     },
     "metadata": {},
     "output_type": "display_data"
    },
    {
     "data": {
      "application/vnd.jupyter.widget-view+json": {
       "model_id": "",
       "version_major": 2,
       "version_minor": 0
      },
      "text/plain": [
       "FloatProgress(value=0.0, bar_style='info', description='Progress:', layout=Layout(height='25px', width='50%'),…"
      ]
     },
     "metadata": {},
     "output_type": "display_data"
    },
    {
     "name": "stdout",
     "output_type": "stream",
     "text": [
      "+----+-------+---+----+-------+-------------------+-------+\n",
      "|Year|  Month|Day|Hour|Weekday|     full_date_time|Date_ID|\n",
      "+----+-------+---+----+-------+-------------------+-------+\n",
      "|2017|January|  1|  13| Sunday|2017-01-01 00:00:00|      1|\n",
      "|2017|January|  1|  16| Sunday|2017-01-01 00:00:00|      2|\n",
      "|2017|January|  1|  23| Sunday|2017-01-01 00:00:00|      3|\n",
      "|2017|January|  1|   6| Sunday|2017-01-01 00:00:00|      4|\n",
      "|2017|January|  1|   5| Sunday|2017-01-01 00:00:00|      5|\n",
      "|2017|January|  1|   9| Sunday|2017-01-01 00:00:00|      6|\n",
      "|2017|January|  1|  15| Sunday|2017-01-01 00:00:00|      7|\n",
      "|2017|January|  1|  14| Sunday|2017-01-01 00:00:00|      8|\n",
      "|2017|January|  1|  17| Sunday|2017-01-01 00:00:00|      9|\n",
      "|2017|January|  1|  21| Sunday|2017-01-01 00:00:00|     10|\n",
      "|2017|January|  1|   3| Sunday|2017-01-01 00:00:00|     11|\n",
      "|2017|January|  1|  22| Sunday|2017-01-01 00:00:00|     12|\n",
      "|2017|January|  1|  20| Sunday|2017-01-01 00:00:00|     13|\n",
      "|2017|January|  1|  10| Sunday|2017-01-01 00:00:00|     14|\n",
      "|2017|January|  1|   0| Sunday|2017-01-01 00:00:00|     15|\n",
      "|2017|January|  1|  11| Sunday|2017-01-01 00:00:00|     16|\n",
      "|2017|January|  1|   8| Sunday|2017-01-01 00:00:00|     17|\n",
      "|2017|January|  1|   1| Sunday|2017-01-01 00:00:00|     18|\n",
      "|2017|January|  1|  18| Sunday|2017-01-01 00:00:00|     19|\n",
      "|2017|January|  1|  19| Sunday|2017-01-01 00:00:00|     20|\n",
      "+----+-------+---+----+-------+-------------------+-------+\n",
      "only showing top 20 rows"
     ]
    }
   ],
   "source": [
    "# Checking the table:\n",
    "\n",
    "Date_Dim.orderBy(\"Date_ID\", ascending = True).show(20)"
   ]
  },
  {
   "cell_type": "code",
   "execution_count": 26,
   "id": "e52bcbaa",
   "metadata": {},
   "outputs": [
    {
     "data": {
      "application/vnd.jupyter.widget-view+json": {
       "model_id": "f73681c73daa4be896be671ae2818079",
       "version_major": 2,
       "version_minor": 0
      },
      "text/plain": [
       "VBox()"
      ]
     },
     "metadata": {},
     "output_type": "display_data"
    },
    {
     "data": {
      "application/vnd.jupyter.widget-view+json": {
       "model_id": "",
       "version_major": 2,
       "version_minor": 0
      },
      "text/plain": [
       "FloatProgress(value=0.0, bar_style='info', description='Progress:', layout=Layout(height='25px', width='50%'),…"
      ]
     },
     "metadata": {},
     "output_type": "display_data"
    },
    {
     "name": "stdout",
     "output_type": "stream",
     "text": [
      "root\n",
      " |-- Year: integer (nullable = true)\n",
      " |-- Month: string (nullable = true)\n",
      " |-- Day: integer (nullable = true)\n",
      " |-- Hour: integer (nullable = true)\n",
      " |-- Weekday: string (nullable = true)\n",
      " |-- full_date_time: timestamp (nullable = true)\n",
      " |-- Date_ID: integer (nullable = true)"
     ]
    }
   ],
   "source": [
    "# Checking schema:\n",
    "\n",
    "Date_Dim.printSchema()"
   ]
  },
  {
   "cell_type": "code",
   "execution_count": 27,
   "id": "44a0d876",
   "metadata": {},
   "outputs": [
    {
     "data": {
      "application/vnd.jupyter.widget-view+json": {
       "model_id": "94922d57c7fb436cbca4d2b6d85c416f",
       "version_major": 2,
       "version_minor": 0
      },
      "text/plain": [
       "VBox()"
      ]
     },
     "metadata": {},
     "output_type": "display_data"
    },
    {
     "data": {
      "application/vnd.jupyter.widget-view+json": {
       "model_id": "",
       "version_major": 2,
       "version_minor": 0
      },
      "text/plain": [
       "FloatProgress(value=0.0, bar_style='info', description='Progress:', layout=Layout(height='25px', width='50%'),…"
      ]
     },
     "metadata": {},
     "output_type": "display_data"
    }
   ],
   "source": [
    "ATM = df.select('Atm_id','Atm_manufacturer','atm_location','atm_streetname').distinct()"
   ]
  },
  {
   "cell_type": "code",
   "execution_count": 28,
   "id": "d42a4497",
   "metadata": {},
   "outputs": [
    {
     "data": {
      "application/vnd.jupyter.widget-view+json": {
       "model_id": "076cb428029f4c66b8c53158e1f85a0a",
       "version_major": 2,
       "version_minor": 0
      },
      "text/plain": [
       "VBox()"
      ]
     },
     "metadata": {},
     "output_type": "display_data"
    },
    {
     "data": {
      "application/vnd.jupyter.widget-view+json": {
       "model_id": "",
       "version_major": 2,
       "version_minor": 0
      },
      "text/plain": [
       "FloatProgress(value=0.0, bar_style='info', description='Progress:', layout=Layout(height='25px', width='50%'),…"
      ]
     },
     "metadata": {},
     "output_type": "display_data"
    }
   ],
   "source": [
    "ATM=ATM.withColumnRenamed(\"Atm_id\",\"atm_number\")"
   ]
  },
  {
   "cell_type": "code",
   "execution_count": 29,
   "id": "4f42548b",
   "metadata": {},
   "outputs": [
    {
     "data": {
      "application/vnd.jupyter.widget-view+json": {
       "model_id": "1882a6647c874b63a3cb68a5045cd743",
       "version_major": 2,
       "version_minor": 0
      },
      "text/plain": [
       "VBox()"
      ]
     },
     "metadata": {},
     "output_type": "display_data"
    },
    {
     "data": {
      "application/vnd.jupyter.widget-view+json": {
       "model_id": "",
       "version_major": 2,
       "version_minor": 0
      },
      "text/plain": [
       "FloatProgress(value=0.0, bar_style='info', description='Progress:', layout=Layout(height='25px', width='50%'),…"
      ]
     },
     "metadata": {},
     "output_type": "display_data"
    },
    {
     "name": "stdout",
     "output_type": "stream",
     "text": [
      "+----------+----------------+--------------+--------------+\n",
      "|atm_number|Atm_manufacturer|  atm_location|atm_streetname|\n",
      "+----------+----------------+--------------+--------------+\n",
      "|        82|             NCR|Skallerup Klit|Nordre Klitvej|\n",
      "|        45|             NCR|    Abildgaard|HjÃƒÂ¸rringvej|\n",
      "+----------+----------------+--------------+--------------+\n",
      "only showing top 2 rows"
     ]
    }
   ],
   "source": [
    "ATM.show(2)"
   ]
  },
  {
   "cell_type": "code",
   "execution_count": 30,
   "id": "56e6ea7a",
   "metadata": {},
   "outputs": [
    {
     "data": {
      "application/vnd.jupyter.widget-view+json": {
       "model_id": "f67db90cf1c74a00a662e4cd265a46f6",
       "version_major": 2,
       "version_minor": 0
      },
      "text/plain": [
       "VBox()"
      ]
     },
     "metadata": {},
     "output_type": "display_data"
    },
    {
     "data": {
      "application/vnd.jupyter.widget-view+json": {
       "model_id": "",
       "version_major": 2,
       "version_minor": 0
      },
      "text/plain": [
       "FloatProgress(value=0.0, bar_style='info', description='Progress:', layout=Layout(height='25px', width='50%'),…"
      ]
     },
     "metadata": {},
     "output_type": "display_data"
    }
   ],
   "source": [
    "# Creating atm_id:\n",
    "\n",
    "ATM_2 = ATM.select(\"atm_number\",\"Atm_manufacturer\",\"atm_location\",\"atm_streetname\",F.row_number().over(Window.partitionBy().orderBy(ATM['atm_number'])).alias(\"ATM_ID\"))"
   ]
  },
  {
   "cell_type": "code",
   "execution_count": 31,
   "id": "a47f3289",
   "metadata": {},
   "outputs": [
    {
     "data": {
      "application/vnd.jupyter.widget-view+json": {
       "model_id": "c31cad77e814406e928a8afda3678605",
       "version_major": 2,
       "version_minor": 0
      },
      "text/plain": [
       "VBox()"
      ]
     },
     "metadata": {},
     "output_type": "display_data"
    },
    {
     "data": {
      "application/vnd.jupyter.widget-view+json": {
       "model_id": "",
       "version_major": 2,
       "version_minor": 0
      },
      "text/plain": [
       "FloatProgress(value=0.0, bar_style='info', description='Progress:', layout=Layout(height='25px', width='50%'),…"
      ]
     },
     "metadata": {},
     "output_type": "display_data"
    },
    {
     "name": "stdout",
     "output_type": "stream",
     "text": [
      "113"
     ]
    }
   ],
   "source": [
    "# Validating the count:\n",
    "\n",
    "ATM_2.select('ATM_ID').distinct().count()"
   ]
  },
  {
   "cell_type": "code",
   "execution_count": 32,
   "id": "f81222f6",
   "metadata": {},
   "outputs": [
    {
     "data": {
      "application/vnd.jupyter.widget-view+json": {
       "model_id": "b8a0bc4a78c54fabb44cbab21bfe9d32",
       "version_major": 2,
       "version_minor": 0
      },
      "text/plain": [
       "VBox()"
      ]
     },
     "metadata": {},
     "output_type": "display_data"
    },
    {
     "data": {
      "application/vnd.jupyter.widget-view+json": {
       "model_id": "",
       "version_major": 2,
       "version_minor": 0
      },
      "text/plain": [
       "FloatProgress(value=0.0, bar_style='info', description='Progress:', layout=Layout(height='25px', width='50%'),…"
      ]
     },
     "metadata": {},
     "output_type": "display_data"
    },
    {
     "name": "stdout",
     "output_type": "stream",
     "text": [
      "113"
     ]
    }
   ],
   "source": [
    "# Checking count:\n",
    "\n",
    "ATM_2.select('atm_number').distinct().count()"
   ]
  },
  {
   "cell_type": "markdown",
   "id": "b1fb65f1",
   "metadata": {},
   "source": [
    "# Making Joins between dim to dim and fact to dim"
   ]
  },
  {
   "cell_type": "code",
   "execution_count": 33,
   "id": "4b07ccb1",
   "metadata": {},
   "outputs": [
    {
     "data": {
      "application/vnd.jupyter.widget-view+json": {
       "model_id": "37c90bf7069a4b15bea23645c22a0bdd",
       "version_major": 2,
       "version_minor": 0
      },
      "text/plain": [
       "VBox()"
      ]
     },
     "metadata": {},
     "output_type": "display_data"
    },
    {
     "data": {
      "application/vnd.jupyter.widget-view+json": {
       "model_id": "",
       "version_major": 2,
       "version_minor": 0
      },
      "text/plain": [
       "FloatProgress(value=0.0, bar_style='info', description='Progress:', layout=Layout(height='25px', width='50%'),…"
      ]
     },
     "metadata": {},
     "output_type": "display_data"
    },
    {
     "name": "stdout",
     "output_type": "stream",
     "text": [
      "+----------+----------------+--------------+--------------+------+--------------+--------------+-----------------+-----------+-------+-------+-----------+\n",
      "|atm_number|Atm_manufacturer|  atm_location|atm_streetname|ATM_ID|  atm_location|atm_streetname|atm_street_number|atm_zipcode|atm_lat|atm_lon|Location_ID|\n",
      "+----------+----------------+--------------+--------------+------+--------------+--------------+-----------------+-----------+-------+-------+-----------+\n",
      "|         1|             NCR|    NÃƒÂ¦stved|   Farimagsvej|     1|    NÃƒÂ¦stved|   Farimagsvej|                8|       4700| 55.233| 11.763|         74|\n",
      "|        10|             NCR|NÃƒÂ¸rresundby|        Torvet|     2|NÃƒÂ¸rresundby|        Torvet|                6|       9400| 57.059|  9.922|         76|\n",
      "+----------+----------------+--------------+--------------+------+--------------+--------------+-----------------+-----------+-------+-------+-----------+\n",
      "only showing top 2 rows"
     ]
    }
   ],
   "source": [
    "# Creating the joins\n",
    "\n",
    "ATM_3 = ATM_2.join(Location_Dim, (ATM_2.atm_location == Location_Dim.atm_location) & (ATM_2.atm_streetname == Location_Dim.atm_streetname))\n",
    "ATM_3.show(2)"
   ]
  },
  {
   "cell_type": "code",
   "execution_count": 34,
   "id": "db097a34",
   "metadata": {},
   "outputs": [
    {
     "data": {
      "application/vnd.jupyter.widget-view+json": {
       "model_id": "ab4e87dde4ae487aa68f494ae78356b2",
       "version_major": 2,
       "version_minor": 0
      },
      "text/plain": [
       "VBox()"
      ]
     },
     "metadata": {},
     "output_type": "display_data"
    },
    {
     "data": {
      "application/vnd.jupyter.widget-view+json": {
       "model_id": "",
       "version_major": 2,
       "version_minor": 0
      },
      "text/plain": [
       "FloatProgress(value=0.0, bar_style='info', description='Progress:', layout=Layout(height='25px', width='50%'),…"
      ]
     },
     "metadata": {},
     "output_type": "display_data"
    },
    {
     "name": "stdout",
     "output_type": "stream",
     "text": [
      "113"
     ]
    }
   ],
   "source": [
    "# Creating ATM_Dimension:\n",
    "\n",
    "ATM_Dim = ATM_3.select('ATM_ID','Atm_manufacturer','atm_number','Location_ID').distinct()\n",
    "\n",
    "# Validating the count:\n",
    "\n",
    "\n",
    "ATM_Dim.count()"
   ]
  },
  {
   "cell_type": "code",
   "execution_count": 35,
   "id": "f749450d",
   "metadata": {},
   "outputs": [
    {
     "data": {
      "application/vnd.jupyter.widget-view+json": {
       "model_id": "a9a3726dab4c4240afa97ae7fb4a1dea",
       "version_major": 2,
       "version_minor": 0
      },
      "text/plain": [
       "VBox()"
      ]
     },
     "metadata": {},
     "output_type": "display_data"
    },
    {
     "data": {
      "application/vnd.jupyter.widget-view+json": {
       "model_id": "",
       "version_major": 2,
       "version_minor": 0
      },
      "text/plain": [
       "FloatProgress(value=0.0, bar_style='info', description='Progress:', layout=Layout(height='25px', width='50%'),…"
      ]
     },
     "metadata": {},
     "output_type": "display_data"
    },
    {
     "name": "stdout",
     "output_type": "stream",
     "text": [
      "113"
     ]
    }
   ],
   "source": [
    "# Renaming the columns:\n",
    "\n",
    "ATM_Dim=ATM_Dim.withColumnRenamed(\"Location_ID\",\"atm_location_id\")\n",
    "\n",
    "ATM_Dim=ATM_Dim.withColumnRenamed(\"ATM_ID\",\"ATM_Dim_Id\") \n",
    "\n",
    "\n",
    "# Validating the count:\n",
    "\n",
    "ATM_Dim.count()"
   ]
  },
  {
   "cell_type": "code",
   "execution_count": 36,
   "id": "d22a2724",
   "metadata": {},
   "outputs": [
    {
     "data": {
      "application/vnd.jupyter.widget-view+json": {
       "model_id": "43917c54c9e94124a2e2060f78234473",
       "version_major": 2,
       "version_minor": 0
      },
      "text/plain": [
       "VBox()"
      ]
     },
     "metadata": {},
     "output_type": "display_data"
    },
    {
     "data": {
      "application/vnd.jupyter.widget-view+json": {
       "model_id": "",
       "version_major": 2,
       "version_minor": 0
      },
      "text/plain": [
       "FloatProgress(value=0.0, bar_style='info', description='Progress:', layout=Layout(height='25px', width='50%'),…"
      ]
     },
     "metadata": {},
     "output_type": "display_data"
    },
    {
     "name": "stdout",
     "output_type": "stream",
     "text": [
      "root\n",
      " |-- ATM_Dim_Id: integer (nullable = true)\n",
      " |-- Atm_manufacturer: string (nullable = true)\n",
      " |-- atm_number: string (nullable = true)\n",
      " |-- atm_location_id: integer (nullable = true)"
     ]
    }
   ],
   "source": [
    "# Validating the schema:\n",
    "\n",
    "ATM_Dim.printSchema()\n",
    "\n",
    "\n"
   ]
  },
  {
   "cell_type": "code",
   "execution_count": 37,
   "id": "61816143",
   "metadata": {},
   "outputs": [
    {
     "data": {
      "application/vnd.jupyter.widget-view+json": {
       "model_id": "a625c00ae4c04760b10abf96902bc1f2",
       "version_major": 2,
       "version_minor": 0
      },
      "text/plain": [
       "VBox()"
      ]
     },
     "metadata": {},
     "output_type": "display_data"
    },
    {
     "data": {
      "application/vnd.jupyter.widget-view+json": {
       "model_id": "",
       "version_major": 2,
       "version_minor": 0
      },
      "text/plain": [
       "FloatProgress(value=0.0, bar_style='info', description='Progress:', layout=Layout(height='25px', width='50%'),…"
      ]
     },
     "metadata": {},
     "output_type": "display_data"
    },
    {
     "name": "stdout",
     "output_type": "stream",
     "text": [
      "+------------+-------------------+------------------+------+----+-------+---+----+----------+--------+----------+------------------+------------+------------+-------+----------+----------+------------+--------------------+\n",
      "|atm_location|     atm_streetname|         card_type|Atm_id|Year|  Month|Day|Hour|Atm_status|currency|   service|transaction_amount|message_code|message_text|rain_3h|clouds_all|weather_id|weather_main| weather_description|\n",
      "+------------+-------------------+------------------+------+----+-------+---+----+----------+--------+----------+------------------+------------+------------+-------+----------+----------+------------+--------------------+\n",
      "|  NÃƒÂ¦stved|        Farimagsvej|        MasterCard|     1|2017|January|  1|   0|    Active|     DKK|Withdrawal|              5643|        null|        null|  0.215|        92|       500|        Rain|          light rain|\n",
      "|    Vejgaard|         Hadsundvej|        MasterCard|     2|2017|January|  1|   0|  Inactive|     DKK|Withdrawal|              1764|        null|        null|   0.59|        92|       500|        Rain|          light rain|\n",
      "|    Vejgaard|         Hadsundvej|              VISA|     2|2017|January|  1|   0|  Inactive|     DKK|Withdrawal|              1891|        null|        null|   0.59|        92|       500|        Rain|          light rain|\n",
      "|       Ikast|RÃƒÂ¥dhusstrÃƒÂ¦det|              VISA|     3|2017|January|  1|   0|  Inactive|     DKK|Withdrawal|              4166|        null|        null|    0.0|        75|       300|     Drizzle|light intensity d...|\n",
      "|  Svogerslev|       BrÃƒÂ¸nsager|        MasterCard|     4|2017|January|  1|   0|    Active|     DKK|Withdrawal|              5153|        null|        null|    0.0|        88|       701|        Mist|                mist|\n",
      "|        Nibe|             Torvet|        MasterCard|     5|2017|January|  1|   0|    Active|     DKK|Withdrawal|              3269|        null|        null|   0.59|        92|       500|        Rain|          light rain|\n",
      "|  Fredericia|   SjÃƒÂ¦llandsgade|        MasterCard|     6|2017|January|  1|   0|    Active|     DKK|Withdrawal|               887|        null|        null|   0.29|        92|       500|        Rain|          light rain|\n",
      "|   Hjallerup|  Hjallerup Centret|Mastercard - on-us|     7|2017|January|  1|   0|    Active|     DKK|Withdrawal|              4626|        null|        null|   0.59|        92|       500|        Rain|          light rain|\n",
      "| GlyngÃƒÂ¸re|        FÃƒÂ¦rgevej|        MasterCard|     8|2017|January|  1|   0|    Active|     DKK|Withdrawal|               470|        null|        null|    0.0|        75|       300|     Drizzle|light intensity d...|\n",
      "|     Hadsund|          Storegade|              VISA|     9|2017|January|  1|   0|    Active|     DKK|Withdrawal|              8473|        null|        null|   0.59|        92|       500|        Rain|          light rain|\n",
      "+------------+-------------------+------------------+------+----+-------+---+----+----------+--------+----------+------------------+------------+------------+-------+----------+----------+------------+--------------------+\n",
      "only showing top 10 rows"
     ]
    }
   ],
   "source": [
    "Fact_Raw=df.select('atm_location','atm_streetname','card_type','Atm_id','Year','Month','Day','Hour','Atm_status','currency','service','transaction_amount','message_code','message_text','rain_3h','clouds_all','weather_id','weather_main','weather_description') \n",
    "\n",
    "\n",
    "Fact_Raw.show(10)\n",
    "\n",
    "\n"
   ]
  },
  {
   "cell_type": "code",
   "execution_count": 38,
   "id": "74fb6f47",
   "metadata": {},
   "outputs": [
    {
     "data": {
      "application/vnd.jupyter.widget-view+json": {
       "model_id": "022cf989d3a64f4b91b0e71ccbab2ba9",
       "version_major": 2,
       "version_minor": 0
      },
      "text/plain": [
       "VBox()"
      ]
     },
     "metadata": {},
     "output_type": "display_data"
    },
    {
     "data": {
      "application/vnd.jupyter.widget-view+json": {
       "model_id": "",
       "version_major": 2,
       "version_minor": 0
      },
      "text/plain": [
       "FloatProgress(value=0.0, bar_style='info', description='Progress:', layout=Layout(height='25px', width='50%'),…"
      ]
     },
     "metadata": {},
     "output_type": "display_data"
    },
    {
     "name": "stdout",
     "output_type": "stream",
     "text": [
      "2468572"
     ]
    }
   ],
   "source": [
    "# Checking count:\n",
    "\n",
    "Fact_Raw.count()"
   ]
  },
  {
   "cell_type": "code",
   "execution_count": 39,
   "id": "2a49f696",
   "metadata": {},
   "outputs": [
    {
     "data": {
      "application/vnd.jupyter.widget-view+json": {
       "model_id": "66336c9f54c4468ba6885abe6822e6b2",
       "version_major": 2,
       "version_minor": 0
      },
      "text/plain": [
       "VBox()"
      ]
     },
     "metadata": {},
     "output_type": "display_data"
    },
    {
     "data": {
      "application/vnd.jupyter.widget-view+json": {
       "model_id": "",
       "version_major": 2,
       "version_minor": 0
      },
      "text/plain": [
       "FloatProgress(value=0.0, bar_style='info', description='Progress:', layout=Layout(height='25px', width='50%'),…"
      ]
     },
     "metadata": {},
     "output_type": "display_data"
    }
   ],
   "source": [
    "# Creating a Join:\n",
    "Fact_Raw_1D = Fact_Raw.join(Location_Dim, (Fact_Raw.atm_location == Location_Dim.atm_location) & (Fact_Raw.atm_streetname == Location_Dim.atm_streetname))"
   ]
  },
  {
   "cell_type": "code",
   "execution_count": 40,
   "id": "3098ed80",
   "metadata": {},
   "outputs": [
    {
     "data": {
      "application/vnd.jupyter.widget-view+json": {
       "model_id": "48b691d9dd214108bedfc913eb1bc533",
       "version_major": 2,
       "version_minor": 0
      },
      "text/plain": [
       "VBox()"
      ]
     },
     "metadata": {},
     "output_type": "display_data"
    },
    {
     "data": {
      "application/vnd.jupyter.widget-view+json": {
       "model_id": "",
       "version_major": 2,
       "version_minor": 0
      },
      "text/plain": [
       "FloatProgress(value=0.0, bar_style='info', description='Progress:', layout=Layout(height='25px', width='50%'),…"
      ]
     },
     "metadata": {},
     "output_type": "display_data"
    },
    {
     "name": "stdout",
     "output_type": "stream",
     "text": [
      "2468572"
     ]
    }
   ],
   "source": [
    "Fact_Raw_1D.count()"
   ]
  },
  {
   "cell_type": "code",
   "execution_count": 41,
   "id": "9a525b88",
   "metadata": {},
   "outputs": [
    {
     "data": {
      "application/vnd.jupyter.widget-view+json": {
       "model_id": "e26b2232bab24d1990f1d07b923ae9c8",
       "version_major": 2,
       "version_minor": 0
      },
      "text/plain": [
       "VBox()"
      ]
     },
     "metadata": {},
     "output_type": "display_data"
    },
    {
     "data": {
      "application/vnd.jupyter.widget-view+json": {
       "model_id": "",
       "version_major": 2,
       "version_minor": 0
      },
      "text/plain": [
       "FloatProgress(value=0.0, bar_style='info', description='Progress:', layout=Layout(height='25px', width='50%'),…"
      ]
     },
     "metadata": {},
     "output_type": "display_data"
    }
   ],
   "source": [
    "# Creating a Join:\n",
    "\n",
    "Fact_Raw_2D = Fact_Raw_1D.join(ATM_Dim, Fact_Raw_1D.Atm_id == ATM_Dim.atm_number )"
   ]
  },
  {
   "cell_type": "code",
   "execution_count": 42,
   "id": "84c3206f",
   "metadata": {},
   "outputs": [
    {
     "data": {
      "application/vnd.jupyter.widget-view+json": {
       "model_id": "cfc8bd6a2eba4fa19e3169bb29d2e1ac",
       "version_major": 2,
       "version_minor": 0
      },
      "text/plain": [
       "VBox()"
      ]
     },
     "metadata": {},
     "output_type": "display_data"
    },
    {
     "data": {
      "application/vnd.jupyter.widget-view+json": {
       "model_id": "",
       "version_major": 2,
       "version_minor": 0
      },
      "text/plain": [
       "FloatProgress(value=0.0, bar_style='info', description='Progress:', layout=Layout(height='25px', width='50%'),…"
      ]
     },
     "metadata": {},
     "output_type": "display_data"
    },
    {
     "name": "stdout",
     "output_type": "stream",
     "text": [
      "2468572"
     ]
    }
   ],
   "source": [
    "Fact_Raw_2D.count()"
   ]
  },
  {
   "cell_type": "code",
   "execution_count": 43,
   "id": "f1af6870",
   "metadata": {},
   "outputs": [
    {
     "data": {
      "application/vnd.jupyter.widget-view+json": {
       "model_id": "0ae3453fc1b441eba9ccf51cfbff2ad9",
       "version_major": 2,
       "version_minor": 0
      },
      "text/plain": [
       "VBox()"
      ]
     },
     "metadata": {},
     "output_type": "display_data"
    },
    {
     "data": {
      "application/vnd.jupyter.widget-view+json": {
       "model_id": "",
       "version_major": 2,
       "version_minor": 0
      },
      "text/plain": [
       "FloatProgress(value=0.0, bar_style='info', description='Progress:', layout=Layout(height='25px', width='50%'),…"
      ]
     },
     "metadata": {},
     "output_type": "display_data"
    },
    {
     "name": "stdout",
     "output_type": "stream",
     "text": [
      "+-------------+---------------+------------+------+----+-------+---+----+----------+--------+----------+------------------+------------+------------+-------+----------+----------+------------+-------------------+-------------+---------------+-----------------+-----------+-------+-------+-----------+----------+----------------+----------+---------------+\n",
      "| atm_location| atm_streetname|   card_type|Atm_id|Year|  Month|Day|Hour|Atm_status|currency|   service|transaction_amount|message_code|message_text|rain_3h|clouds_all|weather_id|weather_main|weather_description| atm_location| atm_streetname|atm_street_number|atm_zipcode|atm_lat|atm_lon|Location_ID|ATM_Dim_Id|Atm_manufacturer|atm_number|atm_location_id|\n",
      "+-------------+---------------+------------+------+----+-------+---+----+----------+--------+----------+------------------+------------+------------+-------+----------+----------+------------+-------------------+-------------+---------------+-----------------+-----------+-------+-------+-----------+----------+----------------+----------+---------------+\n",
      "|Frederiksberg|Gammel Kongevej|Visa Dankort|    47|2017|January|  1|   2|    Active|     DKK|Withdrawal|              5550|        null|        null|    0.0|        75|       701|        Mist|               mist|Frederiksberg|Gammel Kongevej|              157|       1850| 55.677| 12.537|         26|        56|             NCR|        47|             26|\n",
      "|Frederiksberg|Gammel Kongevej|        VISA|    47|2017|January|  1|   3|    Active|     DKK|Withdrawal|              2474|        null|        null|    0.0|        75|       701|        Mist|               mist|Frederiksberg|Gammel Kongevej|              157|       1850| 55.677| 12.537|         26|        56|             NCR|        47|             26|\n",
      "+-------------+---------------+------------+------+----+-------+---+----+----------+--------+----------+------------------+------------+------------+-------+----------+----------+------------+-------------------+-------------+---------------+-----------------+-----------+-------+-------+-----------+----------+----------------+----------+---------------+\n",
      "only showing top 2 rows"
     ]
    }
   ],
   "source": [
    "Fact_Raw_2D.show(2)"
   ]
  },
  {
   "cell_type": "code",
   "execution_count": 44,
   "id": "00f928c9",
   "metadata": {},
   "outputs": [
    {
     "data": {
      "application/vnd.jupyter.widget-view+json": {
       "model_id": "89a454d4f01b4773929c058b193ff608",
       "version_major": 2,
       "version_minor": 0
      },
      "text/plain": [
       "VBox()"
      ]
     },
     "metadata": {},
     "output_type": "display_data"
    },
    {
     "data": {
      "application/vnd.jupyter.widget-view+json": {
       "model_id": "",
       "version_major": 2,
       "version_minor": 0
      },
      "text/plain": [
       "FloatProgress(value=0.0, bar_style='info', description='Progress:', layout=Layout(height='25px', width='50%'),…"
      ]
     },
     "metadata": {},
     "output_type": "display_data"
    }
   ],
   "source": [
    "Fact_Raw_3D = Fact_Raw_2D.join(CardType_Dim, Fact_Raw_2D.card_type == CardType_Dim.card_type )"
   ]
  },
  {
   "cell_type": "code",
   "execution_count": 45,
   "id": "68d414a3",
   "metadata": {},
   "outputs": [
    {
     "data": {
      "application/vnd.jupyter.widget-view+json": {
       "model_id": "a87f2d8b28e44de9abcd875611d8ce74",
       "version_major": 2,
       "version_minor": 0
      },
      "text/plain": [
       "VBox()"
      ]
     },
     "metadata": {},
     "output_type": "display_data"
    },
    {
     "data": {
      "application/vnd.jupyter.widget-view+json": {
       "model_id": "",
       "version_major": 2,
       "version_minor": 0
      },
      "text/plain": [
       "FloatProgress(value=0.0, bar_style='info', description='Progress:', layout=Layout(height='25px', width='50%'),…"
      ]
     },
     "metadata": {},
     "output_type": "display_data"
    },
    {
     "name": "stdout",
     "output_type": "stream",
     "text": [
      "2468572"
     ]
    }
   ],
   "source": [
    "## validating the count\n",
    "Fact_Raw_3D.count()"
   ]
  },
  {
   "cell_type": "code",
   "execution_count": 46,
   "id": "e011587c",
   "metadata": {},
   "outputs": [
    {
     "data": {
      "application/vnd.jupyter.widget-view+json": {
       "model_id": "50af1847db82419ebb3b06df2cc3bc35",
       "version_major": 2,
       "version_minor": 0
      },
      "text/plain": [
       "VBox()"
      ]
     },
     "metadata": {},
     "output_type": "display_data"
    },
    {
     "data": {
      "application/vnd.jupyter.widget-view+json": {
       "model_id": "",
       "version_major": 2,
       "version_minor": 0
      },
      "text/plain": [
       "FloatProgress(value=0.0, bar_style='info', description='Progress:', layout=Layout(height='25px', width='50%'),…"
      ]
     },
     "metadata": {},
     "output_type": "display_data"
    },
    {
     "name": "stdout",
     "output_type": "stream",
     "text": [
      "+------------+---------------+--------------------+------+----+-------+---+----+----------+--------+----------+------------------+------------+------------+-------+----------+----------+------------+--------------------+------------+---------------+-----------------+-----------+-------+-------+-----------+----------+----------------+----------+---------------+--------------------+-----------+\n",
      "|atm_location| atm_streetname|           card_type|Atm_id|Year|  Month|Day|Hour|Atm_status|currency|   service|transaction_amount|message_code|message_text|rain_3h|clouds_all|weather_id|weather_main| weather_description|atm_location| atm_streetname|atm_street_number|atm_zipcode|atm_lat|atm_lon|Location_ID|ATM_Dim_Id|Atm_manufacturer|atm_number|atm_location_id|           card_type|CardType_ID|\n",
      "+------------+---------------+--------------------+------+----+-------+---+----+----------+--------+----------+------------------+------------+------------+-------+----------+----------+------------+--------------------+------------+---------------+-----------------+-----------+-------+-------+-----------+----------+----------------+----------+---------------+--------------------+-----------+\n",
      "|  HÃƒÂ¸rning|   NÃƒÂ¸rrealle|Visa Dankort - on-us|    14|2017|January|  1|   0|  Inactive|     DKK|Withdrawal|              1133|        null|        null|    0.0|        92|       300|     Drizzle|light intensity d...|  HÃƒÂ¸rning|   NÃƒÂ¸rrealle|               12|       8362| 56.086| 10.037|         46|        20|             NCR|        14|             46|Visa Dankort - on-us|         11|\n",
      "|        Aars|Himmerlandsgade|  Mastercard - on-us|    43|2017|January|  1|   1|    Active|     DKK|Withdrawal|              9245|        null|        null|    0.0|        75|       310|     Drizzle|light intensity d...|        Aars|Himmerlandsgade|               70|       9600| 56.803|  9.518|         10|        52|             NCR|        43|             10|  Mastercard - on-us|          8|\n",
      "+------------+---------------+--------------------+------+----+-------+---+----+----------+--------+----------+------------------+------------+------------+-------+----------+----------+------------+--------------------+------------+---------------+-----------------+-----------+-------+-------+-----------+----------+----------------+----------+---------------+--------------------+-----------+\n",
      "only showing top 2 rows"
     ]
    }
   ],
   "source": [
    "Fact_Raw_3D.show(2)"
   ]
  },
  {
   "cell_type": "code",
   "execution_count": 47,
   "id": "debc1847",
   "metadata": {},
   "outputs": [
    {
     "data": {
      "application/vnd.jupyter.widget-view+json": {
       "model_id": "809cf83757c640df9fb5794d916dac22",
       "version_major": 2,
       "version_minor": 0
      },
      "text/plain": [
       "VBox()"
      ]
     },
     "metadata": {},
     "output_type": "display_data"
    },
    {
     "data": {
      "application/vnd.jupyter.widget-view+json": {
       "model_id": "",
       "version_major": 2,
       "version_minor": 0
      },
      "text/plain": [
       "FloatProgress(value=0.0, bar_style='info', description='Progress:', layout=Layout(height='25px', width='50%'),…"
      ]
     },
     "metadata": {},
     "output_type": "display_data"
    }
   ],
   "source": [
    "Fact_Raw_4D = Fact_Raw_3D.join(Date_Dim, (Fact_Raw_3D.Year == Date_Dim.Year) & (Fact_Raw_3D.Month == Date_Dim.Month) & (Fact_Raw_3D.Day == Date_Dim.Day) & (Fact_Raw_3D.Hour == Date_Dim.Hour))\n"
   ]
  },
  {
   "cell_type": "code",
   "execution_count": 48,
   "id": "0c3f3ceb",
   "metadata": {},
   "outputs": [
    {
     "data": {
      "application/vnd.jupyter.widget-view+json": {
       "model_id": "007766c5df284ce38fa82cb6f1c86d8f",
       "version_major": 2,
       "version_minor": 0
      },
      "text/plain": [
       "VBox()"
      ]
     },
     "metadata": {},
     "output_type": "display_data"
    },
    {
     "data": {
      "application/vnd.jupyter.widget-view+json": {
       "model_id": "",
       "version_major": 2,
       "version_minor": 0
      },
      "text/plain": [
       "FloatProgress(value=0.0, bar_style='info', description='Progress:', layout=Layout(height='25px', width='50%'),…"
      ]
     },
     "metadata": {},
     "output_type": "display_data"
    },
    {
     "name": "stdout",
     "output_type": "stream",
     "text": [
      "root\n",
      " |-- atm_location: string (nullable = true)\n",
      " |-- atm_streetname: string (nullable = true)\n",
      " |-- card_type: string (nullable = true)\n",
      " |-- Atm_id: string (nullable = true)\n",
      " |-- Year: integer (nullable = true)\n",
      " |-- Month: string (nullable = true)\n",
      " |-- Day: integer (nullable = true)\n",
      " |-- Hour: integer (nullable = true)\n",
      " |-- Atm_status: string (nullable = true)\n",
      " |-- currency: string (nullable = true)\n",
      " |-- service: string (nullable = true)\n",
      " |-- transaction_amount: integer (nullable = true)\n",
      " |-- message_code: string (nullable = true)\n",
      " |-- message_text: string (nullable = true)\n",
      " |-- rain_3h: double (nullable = true)\n",
      " |-- clouds_all: integer (nullable = true)\n",
      " |-- weather_id: integer (nullable = true)\n",
      " |-- weather_main: string (nullable = true)\n",
      " |-- weather_description: string (nullable = true)\n",
      " |-- atm_location: string (nullable = true)\n",
      " |-- atm_streetname: string (nullable = true)\n",
      " |-- atm_street_number: integer (nullable = true)\n",
      " |-- atm_zipcode: integer (nullable = true)\n",
      " |-- atm_lat: decimal(10,3) (nullable = true)\n",
      " |-- atm_lon: decimal(10,3) (nullable = true)\n",
      " |-- Location_ID: integer (nullable = true)\n",
      " |-- ATM_Dim_Id: integer (nullable = true)\n",
      " |-- Atm_manufacturer: string (nullable = true)\n",
      " |-- atm_number: string (nullable = true)\n",
      " |-- atm_location_id: integer (nullable = true)\n",
      " |-- card_type: string (nullable = true)\n",
      " |-- CardType_ID: integer (nullable = true)\n",
      " |-- Year: integer (nullable = true)\n",
      " |-- Month: string (nullable = true)\n",
      " |-- Day: integer (nullable = true)\n",
      " |-- Hour: integer (nullable = true)\n",
      " |-- Weekday: string (nullable = true)\n",
      " |-- full_date_time: timestamp (nullable = true)\n",
      " |-- Date_ID: integer (nullable = true)"
     ]
    }
   ],
   "source": [
    "# varifying schema\n",
    "Fact_Raw_4D.printSchema()"
   ]
  },
  {
   "cell_type": "code",
   "execution_count": 49,
   "id": "19207c91",
   "metadata": {},
   "outputs": [
    {
     "data": {
      "application/vnd.jupyter.widget-view+json": {
       "model_id": "afb766333424463eb7ad1ac2a2b614d5",
       "version_major": 2,
       "version_minor": 0
      },
      "text/plain": [
       "VBox()"
      ]
     },
     "metadata": {},
     "output_type": "display_data"
    },
    {
     "data": {
      "application/vnd.jupyter.widget-view+json": {
       "model_id": "",
       "version_major": 2,
       "version_minor": 0
      },
      "text/plain": [
       "FloatProgress(value=0.0, bar_style='info', description='Progress:', layout=Layout(height='25px', width='50%'),…"
      ]
     },
     "metadata": {},
     "output_type": "display_data"
    }
   ],
   "source": [
    "# Creating fact_data table\n",
    "\n",
    "Fact_Data=Fact_Raw_4D.select('Location_Id','ATM_Dim_Id','Date_Id','CardType_Id','atm_status','currency','service','transaction_amount','message_code','message_text','rain_3h','clouds_all','weather_id','weather_main','weather_description',F.row_number().over(Window.partitionBy().orderBy(Fact_Raw_4D['Location_Id'])).alias(\"trans_id\"))"
   ]
  },
  {
   "cell_type": "code",
   "execution_count": 50,
   "id": "e4c11404",
   "metadata": {},
   "outputs": [
    {
     "data": {
      "application/vnd.jupyter.widget-view+json": {
       "model_id": "8e1c7e1ca12543d2b9a4d09d1da1c35c",
       "version_major": 2,
       "version_minor": 0
      },
      "text/plain": [
       "VBox()"
      ]
     },
     "metadata": {},
     "output_type": "display_data"
    },
    {
     "data": {
      "application/vnd.jupyter.widget-view+json": {
       "model_id": "",
       "version_major": 2,
       "version_minor": 0
      },
      "text/plain": [
       "FloatProgress(value=0.0, bar_style='info', description='Progress:', layout=Layout(height='25px', width='50%'),…"
      ]
     },
     "metadata": {},
     "output_type": "display_data"
    },
    {
     "name": "stdout",
     "output_type": "stream",
     "text": [
      "root\n",
      " |-- Location_Id: integer (nullable = true)\n",
      " |-- ATM_Dim_Id: integer (nullable = true)\n",
      " |-- Date_Id: integer (nullable = true)\n",
      " |-- CardType_Id: integer (nullable = true)\n",
      " |-- atm_status: string (nullable = true)\n",
      " |-- currency: string (nullable = true)\n",
      " |-- service: string (nullable = true)\n",
      " |-- transaction_amount: integer (nullable = true)\n",
      " |-- message_code: string (nullable = true)\n",
      " |-- message_text: string (nullable = true)\n",
      " |-- rain_3h: double (nullable = true)\n",
      " |-- clouds_all: integer (nullable = true)\n",
      " |-- weather_id: integer (nullable = true)\n",
      " |-- weather_main: string (nullable = true)\n",
      " |-- weather_description: string (nullable = true)\n",
      " |-- trans_id: integer (nullable = true)\n",
      "\n",
      "Fact_Data count:  2468572"
     ]
    }
   ],
   "source": [
    "# Validating the schema:\n",
    "\n",
    "Fact_Data.printSchema()\n",
    "\n",
    "# Validating count:\n",
    "\n",
    "print(\"Fact_Data count: \",Fact_Data.count())"
   ]
  },
  {
   "cell_type": "code",
   "execution_count": 51,
   "id": "a80374d1",
   "metadata": {},
   "outputs": [
    {
     "data": {
      "application/vnd.jupyter.widget-view+json": {
       "model_id": "80de8b91d53742789683fc934dfef774",
       "version_major": 2,
       "version_minor": 0
      },
      "text/plain": [
       "VBox()"
      ]
     },
     "metadata": {},
     "output_type": "display_data"
    },
    {
     "data": {
      "application/vnd.jupyter.widget-view+json": {
       "model_id": "",
       "version_major": 2,
       "version_minor": 0
      },
      "text/plain": [
       "FloatProgress(value=0.0, bar_style='info', description='Progress:', layout=Layout(height='25px', width='50%'),…"
      ]
     },
     "metadata": {},
     "output_type": "display_data"
    },
    {
     "name": "stdout",
     "output_type": "stream",
     "text": [
      "+-----------+----------+-------+-----------+----------+--------+----------+------------------+------------+------------+-------+----------+----------+------------+-------------------+--------+\n",
      "|Location_Id|ATM_Dim_Id|Date_Id|CardType_Id|atm_status|currency|   service|transaction_amount|message_code|message_text|rain_3h|clouds_all|weather_id|weather_main|weather_description|trans_id|\n",
      "+-----------+----------+-------+-----------+----------+--------+----------+------------------+------------+------------+-------+----------+----------+------------+-------------------+--------+\n",
      "|        109|        28|   2303|         10|    Active|     DKK|Withdrawal|              4536|        null|        null|    0.0|         0|       800|       Clear|       Sky is Clear| 2468572|\n",
      "|        109|        28|   2303|          7|    Active|     DKK|Withdrawal|              9711|        null|        null|    0.0|         0|       800|       Clear|       Sky is Clear| 2468571|\n",
      "|        109|        28|   2303|          8|    Active|     DKK|Withdrawal|              8915|        null|        null|    0.0|         0|       800|       Clear|       Sky is Clear| 2468570|\n",
      "|        109|        28|   2303|          8|    Active|     DKK|Withdrawal|              4035|        null|        null|    0.0|         0|       800|       Clear|       Sky is Clear| 2468569|\n",
      "|        109|        28|   2303|          8|    Active|     DKK|Withdrawal|              6440|        null|        null|    0.0|         0|       800|       Clear|       Sky is Clear| 2468568|\n",
      "|        109|        28|   2303|          5|    Active|     DKK|Withdrawal|              2675|        null|        null|    0.0|         0|       800|       Clear|       Sky is Clear| 2468567|\n",
      "|        109|        28|   2303|         11|    Active|     DKK|Withdrawal|              8822|        null|        null|    0.0|         0|       800|       Clear|       Sky is Clear| 2468566|\n",
      "|        109|        28|   2303|          9|    Active|     DKK|Withdrawal|               229|        null|        null|    0.0|         0|       800|       Clear|       Sky is Clear| 2468565|\n",
      "|        109|        28|   2297|         11|    Active|     DKK|Withdrawal|              9427|        null|        null|    0.0|         0|       800|       Clear|       Sky is Clear| 2468564|\n",
      "|        109|        28|   2297|         11|    Active|     EUR|Withdrawal|              4501|        null|        null|    0.0|         0|       800|       Clear|       Sky is Clear| 2468563|\n",
      "|        109|        28|   2297|         10|    Active|     DKK|Withdrawal|                86|        null|        null|    0.0|         0|       800|       Clear|       Sky is Clear| 2468562|\n",
      "|        109|        28|   2297|          5|    Active|     DKK|Withdrawal|              9163|        null|        null|    0.0|         0|       800|       Clear|       Sky is Clear| 2468561|\n",
      "|        109|        28|   2297|          8|    Active|     DKK|Withdrawal|              8048|        null|        null|    0.0|         0|       800|       Clear|       Sky is Clear| 2468560|\n",
      "|        109|        28|   2297|          8|    Active|     DKK|Withdrawal|              4012|        null|        null|    0.0|         0|       800|       Clear|       Sky is Clear| 2468559|\n",
      "|        109|        28|   2297|         10|    Active|     DKK|Withdrawal|              3206|        null|        null|    0.0|         0|       800|       Clear|       Sky is Clear| 2468558|\n",
      "|        109|        28|   2297|         11|    Active|     DKK|Withdrawal|              8747|        null|        null|    0.0|         0|       800|       Clear|       Sky is Clear| 2468557|\n",
      "|        109|        28|   2297|         10|    Active|     DKK|Withdrawal|              8400|        null|        null|    0.0|         0|       800|       Clear|       Sky is Clear| 2468556|\n",
      "|        109|        28|   2293|          8|    Active|     DKK|Withdrawal|              6264|        null|        null|    0.0|         0|       800|       Clear|       Sky is Clear| 2468555|\n",
      "|        109|        28|   2291|         11|    Active|     DKK|Withdrawal|              5555|        null|        null|    0.0|         0|       800|       Clear|       Sky is Clear| 2468554|\n",
      "|        109|        28|   2291|          8|    Active|     DKK|Withdrawal|              7900|        null|        null|    0.0|         0|       800|       Clear|       Sky is Clear| 2468553|\n",
      "+-----------+----------+-------+-----------+----------+--------+----------+------------------+------------+------------+-------+----------+----------+------------+-------------------+--------+\n",
      "only showing top 20 rows"
     ]
    }
   ],
   "source": [
    "# Checking the fact tables:\n",
    "\n",
    "Fact_Data.orderBy(\"trans_id\", ascending = False).show(20)"
   ]
  },
  {
   "cell_type": "markdown",
   "id": "08466a33",
   "metadata": {},
   "source": [
    "# Printing all tables:"
   ]
  },
  {
   "cell_type": "code",
   "execution_count": 52,
   "id": "20d230d5",
   "metadata": {},
   "outputs": [
    {
     "data": {
      "application/vnd.jupyter.widget-view+json": {
       "model_id": "baf19e22fc7a4ff6aa1c35108d2da254",
       "version_major": 2,
       "version_minor": 0
      },
      "text/plain": [
       "VBox()"
      ]
     },
     "metadata": {},
     "output_type": "display_data"
    },
    {
     "data": {
      "application/vnd.jupyter.widget-view+json": {
       "model_id": "",
       "version_major": 2,
       "version_minor": 0
      },
      "text/plain": [
       "FloatProgress(value=0.0, bar_style='info', description='Progress:', layout=Layout(height='25px', width='50%'),…"
      ]
     },
     "metadata": {},
     "output_type": "display_data"
    },
    {
     "name": "stdout",
     "output_type": "stream",
     "text": [
      "2468572"
     ]
    }
   ],
   "source": [
    "Fact_Data.count()"
   ]
  },
  {
   "cell_type": "code",
   "execution_count": 53,
   "id": "b4988c23",
   "metadata": {},
   "outputs": [
    {
     "data": {
      "application/vnd.jupyter.widget-view+json": {
       "model_id": "98fd90b01d7c4eada7106f8e2d32452c",
       "version_major": 2,
       "version_minor": 0
      },
      "text/plain": [
       "VBox()"
      ]
     },
     "metadata": {},
     "output_type": "display_data"
    },
    {
     "data": {
      "application/vnd.jupyter.widget-view+json": {
       "model_id": "",
       "version_major": 2,
       "version_minor": 0
      },
      "text/plain": [
       "FloatProgress(value=0.0, bar_style='info', description='Progress:', layout=Layout(height='25px', width='50%'),…"
      ]
     },
     "metadata": {},
     "output_type": "display_data"
    },
    {
     "name": "stdout",
     "output_type": "stream",
     "text": [
      "+----------+----------------+----------+---------------+\n",
      "|ATM_Dim_Id|Atm_manufacturer|atm_number|atm_location_id|\n",
      "+----------+----------------+----------+---------------+\n",
      "|        43|             NCR|        35|              1|\n",
      "|       110|             NCR|        96|              2|\n",
      "|         5|             NCR|       102|              3|\n",
      "|       100|             NCR|        87|              4|\n",
      "|        12| Diebold Nixdorf|       109|              5|\n",
      "|        83|             NCR|        71|              6|\n",
      "|        15| Diebold Nixdorf|       111|              7|\n",
      "|        60|             NCR|        50|              8|\n",
      "|        89|             NCR|        77|              9|\n",
      "|        52|             NCR|        43|             10|\n",
      "+----------+----------------+----------+---------------+\n",
      "only showing top 10 rows"
     ]
    }
   ],
   "source": [
    "#ATM_Dim\n",
    "\n",
    "\n",
    "\n",
    "ATM_Dim.show(10)"
   ]
  },
  {
   "cell_type": "code",
   "execution_count": 54,
   "id": "03700c26",
   "metadata": {},
   "outputs": [
    {
     "data": {
      "application/vnd.jupyter.widget-view+json": {
       "model_id": "0c356f8cd7624c0e8fda29dd1eb99826",
       "version_major": 2,
       "version_minor": 0
      },
      "text/plain": [
       "VBox()"
      ]
     },
     "metadata": {},
     "output_type": "display_data"
    },
    {
     "data": {
      "application/vnd.jupyter.widget-view+json": {
       "model_id": "",
       "version_major": 2,
       "version_minor": 0
      },
      "text/plain": [
       "FloatProgress(value=0.0, bar_style='info', description='Progress:', layout=Layout(height='25px', width='50%'),…"
      ]
     },
     "metadata": {},
     "output_type": "display_data"
    },
    {
     "name": "stdout",
     "output_type": "stream",
     "text": [
      "+-------------------+-----------+\n",
      "|          card_type|CardType_ID|\n",
      "+-------------------+-----------+\n",
      "|             CIRRUS|          1|\n",
      "|            Dankort|          2|\n",
      "|    Dankort - on-us|          3|\n",
      "|        HÃƒÂ¦vekort|          4|\n",
      "|HÃƒÂ¦vekort - on-us|          5|\n",
      "|            Maestro|          6|\n",
      "|         MasterCard|          7|\n",
      "| Mastercard - on-us|          8|\n",
      "|               VISA|          9|\n",
      "|       Visa Dankort|         10|\n",
      "+-------------------+-----------+\n",
      "only showing top 10 rows"
     ]
    }
   ],
   "source": [
    "CardType_Dim.show(10)"
   ]
  },
  {
   "cell_type": "code",
   "execution_count": 55,
   "id": "f4989df1",
   "metadata": {},
   "outputs": [
    {
     "data": {
      "application/vnd.jupyter.widget-view+json": {
       "model_id": "24bd5e403d924daeb46b42f706015dc2",
       "version_major": 2,
       "version_minor": 0
      },
      "text/plain": [
       "VBox()"
      ]
     },
     "metadata": {},
     "output_type": "display_data"
    },
    {
     "data": {
      "application/vnd.jupyter.widget-view+json": {
       "model_id": "",
       "version_major": 2,
       "version_minor": 0
      },
      "text/plain": [
       "FloatProgress(value=0.0, bar_style='info', description='Progress:', layout=Layout(height='25px', width='50%'),…"
      ]
     },
     "metadata": {},
     "output_type": "display_data"
    },
    {
     "name": "stdout",
     "output_type": "stream",
     "text": [
      "+--------------------+---------------+-----------------+-----------+-------+-------+-----------+\n",
      "|        atm_location| atm_streetname|atm_street_number|atm_zipcode|atm_lat|atm_lon|Location_ID|\n",
      "+--------------------+---------------+-----------------+-----------+-------+-------+-----------+\n",
      "|             Aabybro|   ÃƒËœstergade|                6|       9440| 57.162|  9.730|          1|\n",
      "|      Aalborg Hallen|   Europa Plads|                4|       9000| 57.044|  9.913|          2|\n",
      "|Aalborg Storcente...|       Hobrovej|              452|       9200| 57.005|  9.876|          3|\n",
      "|Aalborg Storcente...|       Hobrovej|              452|       9200| 57.005|  9.876|          4|\n",
      "|         Aalborg Syd|       Hobrovej|              440|       9200| 57.005|  9.881|          5|\n",
      "|           AalbÃƒÂ¦k|     Centralvej|                5|       9982| 57.593| 10.412|          6|\n",
      "|              Aarhus| SÃƒÂ¸nder Alle|               11|       8000| 56.153| 10.206|          7|\n",
      "|              Aarhus|     Ceres Byen|               75|       8000| 56.157| 10.194|          8|\n",
      "|     Aarhus Lufthavn|Ny Lufthavnsvej|               24|       8560| 56.308| 10.627|          9|\n",
      "|                Aars|Himmerlandsgade|               70|       9600| 56.803|  9.518|         10|\n",
      "+--------------------+---------------+-----------------+-----------+-------+-------+-----------+\n",
      "only showing top 10 rows"
     ]
    }
   ],
   "source": [
    "# Location_Dim:\n",
    "\n",
    "Location_Dim.show(10)"
   ]
  },
  {
   "cell_type": "code",
   "execution_count": 56,
   "id": "c7e7a205",
   "metadata": {},
   "outputs": [
    {
     "data": {
      "application/vnd.jupyter.widget-view+json": {
       "model_id": "f4089bec7937475db3af2dd0cba4fad9",
       "version_major": 2,
       "version_minor": 0
      },
      "text/plain": [
       "VBox()"
      ]
     },
     "metadata": {},
     "output_type": "display_data"
    },
    {
     "data": {
      "application/vnd.jupyter.widget-view+json": {
       "model_id": "",
       "version_major": 2,
       "version_minor": 0
      },
      "text/plain": [
       "FloatProgress(value=0.0, bar_style='info', description='Progress:', layout=Layout(height='25px', width='50%'),…"
      ]
     },
     "metadata": {},
     "output_type": "display_data"
    },
    {
     "name": "stdout",
     "output_type": "stream",
     "text": [
      "+----+-------+---+----+-------+-------------------+-------+\n",
      "|Year|  Month|Day|Hour|Weekday|     full_date_time|Date_ID|\n",
      "+----+-------+---+----+-------+-------------------+-------+\n",
      "|2017|January|  1|  20| Sunday|2017-01-01 00:00:00|      1|\n",
      "|2017|January|  1|  10| Sunday|2017-01-01 00:00:00|      2|\n",
      "|2017|January|  1|   0| Sunday|2017-01-01 00:00:00|      3|\n",
      "|2017|January|  1|  11| Sunday|2017-01-01 00:00:00|      4|\n",
      "|2017|January|  1|  16| Sunday|2017-01-01 00:00:00|      5|\n",
      "|2017|January|  1|  23| Sunday|2017-01-01 00:00:00|      6|\n",
      "|2017|January|  1|   6| Sunday|2017-01-01 00:00:00|      7|\n",
      "|2017|January|  1|   5| Sunday|2017-01-01 00:00:00|      8|\n",
      "|2017|January|  1|   1| Sunday|2017-01-01 00:00:00|      9|\n",
      "|2017|January|  1|  18| Sunday|2017-01-01 00:00:00|     10|\n",
      "+----+-------+---+----+-------+-------------------+-------+\n",
      "only showing top 10 rows"
     ]
    }
   ],
   "source": [
    "# Date_Dim:\n",
    "\n",
    "Date_Dim.show(10)"
   ]
  },
  {
   "cell_type": "markdown",
   "id": "86fff251",
   "metadata": {},
   "source": [
    "# Renaming all tables and setting up the correct required format"
   ]
  },
  {
   "cell_type": "code",
   "execution_count": 57,
   "id": "1fd04086",
   "metadata": {},
   "outputs": [
    {
     "data": {
      "application/vnd.jupyter.widget-view+json": {
       "model_id": "012bcd5bca644a16ba8eea3674c4c068",
       "version_major": 2,
       "version_minor": 0
      },
      "text/plain": [
       "VBox()"
      ]
     },
     "metadata": {},
     "output_type": "display_data"
    },
    {
     "data": {
      "application/vnd.jupyter.widget-view+json": {
       "model_id": "",
       "version_major": 2,
       "version_minor": 0
      },
      "text/plain": [
       "FloatProgress(value=0.0, bar_style='info', description='Progress:', layout=Layout(height='25px', width='50%'),…"
      ]
     },
     "metadata": {},
     "output_type": "display_data"
    }
   ],
   "source": [
    "# Renaming columns:\n",
    "\n",
    "\n",
    "Location_Dim = Location_Dim.withColumnRenamed('atm_location' , 'location')\n",
    "Location_Dim = Location_Dim.withColumnRenamed('atm_streetname' , 'streetname')\n",
    "Location_Dim = Location_Dim.withColumnRenamed('atm_street_number' , 'street_number')\n",
    "Location_Dim = Location_Dim.withColumnRenamed('atm_zipcode' , 'zipcode')\n",
    "Location_Dim = Location_Dim.withColumnRenamed('atm_lat' , 'lat')\n",
    "Location_Dim = Location_Dim.withColumnRenamed('atm_lon', 'lon')\n",
    "Location_Dim = Location_Dim.withColumnRenamed('Location_ID' , 'location_id')"
   ]
  },
  {
   "cell_type": "code",
   "execution_count": 58,
   "id": "830e2783",
   "metadata": {},
   "outputs": [
    {
     "data": {
      "application/vnd.jupyter.widget-view+json": {
       "model_id": "701eb4d8c17d4e8b89b2ff3095392f48",
       "version_major": 2,
       "version_minor": 0
      },
      "text/plain": [
       "VBox()"
      ]
     },
     "metadata": {},
     "output_type": "display_data"
    },
    {
     "data": {
      "application/vnd.jupyter.widget-view+json": {
       "model_id": "",
       "version_major": 2,
       "version_minor": 0
      },
      "text/plain": [
       "FloatProgress(value=0.0, bar_style='info', description='Progress:', layout=Layout(height='25px', width='50%'),…"
      ]
     },
     "metadata": {},
     "output_type": "display_data"
    },
    {
     "name": "stdout",
     "output_type": "stream",
     "text": [
      "+--------------+------------+-------------+-------+------+-----+-----------+\n",
      "|      location|  streetname|street_number|zipcode|   lat|  lon|location_id|\n",
      "+--------------+------------+-------------+-------+------+-----+-----------+\n",
      "|       Aabybro|ÃƒËœstergade|            6|   9440|57.162|9.730|          1|\n",
      "|Aalborg Hallen|Europa Plads|            4|   9000|57.044|9.913|          2|\n",
      "+--------------+------------+-------------+-------+------+-----+-----------+\n",
      "only showing top 2 rows"
     ]
    }
   ],
   "source": [
    "Location_Dim.show(2)"
   ]
  },
  {
   "cell_type": "markdown",
   "id": "409b65b3",
   "metadata": {},
   "source": [
    "# Creating Final DIM_Location table"
   ]
  },
  {
   "cell_type": "code",
   "execution_count": 59,
   "id": "4802d9c9",
   "metadata": {},
   "outputs": [
    {
     "data": {
      "application/vnd.jupyter.widget-view+json": {
       "model_id": "372acfabd2e54baa989a579e12f67089",
       "version_major": 2,
       "version_minor": 0
      },
      "text/plain": [
       "VBox()"
      ]
     },
     "metadata": {},
     "output_type": "display_data"
    },
    {
     "data": {
      "application/vnd.jupyter.widget-view+json": {
       "model_id": "",
       "version_major": 2,
       "version_minor": 0
      },
      "text/plain": [
       "FloatProgress(value=0.0, bar_style='info', description='Progress:', layout=Layout(height='25px', width='50%'),…"
      ]
     },
     "metadata": {},
     "output_type": "display_data"
    }
   ],
   "source": [
    "DIM_Location = Location_Dim.select('location_id' , 'location' , 'streetname' , 'street_number', 'zipcode' , 'lat' , 'lon')"
   ]
  },
  {
   "cell_type": "markdown",
   "id": "9068cfc4",
   "metadata": {},
   "source": [
    "# Validating the table:"
   ]
  },
  {
   "cell_type": "code",
   "execution_count": 60,
   "id": "cdb4721d",
   "metadata": {},
   "outputs": [
    {
     "data": {
      "application/vnd.jupyter.widget-view+json": {
       "model_id": "5826c273fc314a0f94e2409ba2e5c8ca",
       "version_major": 2,
       "version_minor": 0
      },
      "text/plain": [
       "VBox()"
      ]
     },
     "metadata": {},
     "output_type": "display_data"
    },
    {
     "data": {
      "application/vnd.jupyter.widget-view+json": {
       "model_id": "",
       "version_major": 2,
       "version_minor": 0
      },
      "text/plain": [
       "FloatProgress(value=0.0, bar_style='info', description='Progress:', layout=Layout(height='25px', width='50%'),…"
      ]
     },
     "metadata": {},
     "output_type": "display_data"
    },
    {
     "name": "stdout",
     "output_type": "stream",
     "text": [
      "+-----------+--------------+------------+-------------+-------+------+-----+\n",
      "|location_id|      location|  streetname|street_number|zipcode|   lat|  lon|\n",
      "+-----------+--------------+------------+-------------+-------+------+-----+\n",
      "|          1|       Aabybro|ÃƒËœstergade|            6|   9440|57.162|9.730|\n",
      "|          2|Aalborg Hallen|Europa Plads|            4|   9000|57.044|9.913|\n",
      "+-----------+--------------+------------+-------------+-------+------+-----+\n",
      "only showing top 2 rows"
     ]
    }
   ],
   "source": [
    "DIM_Location.show(2)"
   ]
  },
  {
   "cell_type": "code",
   "execution_count": 61,
   "id": "712c779d",
   "metadata": {},
   "outputs": [
    {
     "data": {
      "application/vnd.jupyter.widget-view+json": {
       "model_id": "4fa7e82fcf814841abc04ebe4a2def7a",
       "version_major": 2,
       "version_minor": 0
      },
      "text/plain": [
       "VBox()"
      ]
     },
     "metadata": {},
     "output_type": "display_data"
    },
    {
     "data": {
      "application/vnd.jupyter.widget-view+json": {
       "model_id": "",
       "version_major": 2,
       "version_minor": 0
      },
      "text/plain": [
       "FloatProgress(value=0.0, bar_style='info', description='Progress:', layout=Layout(height='25px', width='50%'),…"
      ]
     },
     "metadata": {},
     "output_type": "display_data"
    },
    {
     "name": "stdout",
     "output_type": "stream",
     "text": [
      "+----------+----------------+----------+---------------+\n",
      "|ATM_Dim_Id|Atm_manufacturer|atm_number|atm_location_id|\n",
      "+----------+----------------+----------+---------------+\n",
      "|         1|             NCR|         1|             75|\n",
      "|         2|             NCR|        10|             76|\n",
      "+----------+----------------+----------+---------------+\n",
      "only showing top 2 rows"
     ]
    }
   ],
   "source": [
    "# Renaming columns for ATM_Dim:\n",
    "\n",
    "\n",
    "ATM_Dim.show(2)"
   ]
  },
  {
   "cell_type": "code",
   "execution_count": 62,
   "id": "a37a2a02",
   "metadata": {},
   "outputs": [
    {
     "data": {
      "application/vnd.jupyter.widget-view+json": {
       "model_id": "ecbb7249af7b4d18b003513565412bf9",
       "version_major": 2,
       "version_minor": 0
      },
      "text/plain": [
       "VBox()"
      ]
     },
     "metadata": {},
     "output_type": "display_data"
    },
    {
     "data": {
      "application/vnd.jupyter.widget-view+json": {
       "model_id": "",
       "version_major": 2,
       "version_minor": 0
      },
      "text/plain": [
       "FloatProgress(value=0.0, bar_style='info', description='Progress:', layout=Layout(height='25px', width='50%'),…"
      ]
     },
     "metadata": {},
     "output_type": "display_data"
    },
    {
     "name": "stdout",
     "output_type": "stream",
     "text": [
      "root\n",
      " |-- ATM_Dim_Id: integer (nullable = true)\n",
      " |-- Atm_manufacturer: string (nullable = true)\n",
      " |-- atm_number: string (nullable = true)\n",
      " |-- atm_location_id: integer (nullable = true)"
     ]
    }
   ],
   "source": [
    "ATM_Dim.printSchema()"
   ]
  },
  {
   "cell_type": "markdown",
   "id": "d2149422",
   "metadata": {},
   "source": [
    "# Renaming the ATM TABLE"
   ]
  },
  {
   "cell_type": "code",
   "execution_count": 63,
   "id": "79ab350a",
   "metadata": {},
   "outputs": [
    {
     "data": {
      "application/vnd.jupyter.widget-view+json": {
       "model_id": "ba47267959114fc7b0236beedb5a58b3",
       "version_major": 2,
       "version_minor": 0
      },
      "text/plain": [
       "VBox()"
      ]
     },
     "metadata": {},
     "output_type": "display_data"
    },
    {
     "data": {
      "application/vnd.jupyter.widget-view+json": {
       "model_id": "",
       "version_major": 2,
       "version_minor": 0
      },
      "text/plain": [
       "FloatProgress(value=0.0, bar_style='info', description='Progress:', layout=Layout(height='25px', width='50%'),…"
      ]
     },
     "metadata": {},
     "output_type": "display_data"
    }
   ],
   "source": [
    "# Renaming the table:\n",
    "\n",
    "ATM_Dim = ATM_Dim.withColumnRenamed('ATM_Dim_Id' , 'atm_id')\n",
    "ATM_Dim = ATM_Dim.withColumnRenamed('Atm_manufacturer' , 'atm_manufacturer')\n",
    "ATM_Dim = ATM_Dim.withColumnRenamed('ATM_Dim_Id' , 'atm_id')"
   ]
  },
  {
   "cell_type": "markdown",
   "id": "49feeb5a",
   "metadata": {},
   "source": [
    "# Creating Final DIM_ATM Table"
   ]
  },
  {
   "cell_type": "code",
   "execution_count": 64,
   "id": "2a9a39d3",
   "metadata": {},
   "outputs": [
    {
     "data": {
      "application/vnd.jupyter.widget-view+json": {
       "model_id": "6493bec2991e4693ba92e6847d369e18",
       "version_major": 2,
       "version_minor": 0
      },
      "text/plain": [
       "VBox()"
      ]
     },
     "metadata": {},
     "output_type": "display_data"
    },
    {
     "data": {
      "application/vnd.jupyter.widget-view+json": {
       "model_id": "",
       "version_major": 2,
       "version_minor": 0
      },
      "text/plain": [
       "FloatProgress(value=0.0, bar_style='info', description='Progress:', layout=Layout(height='25px', width='50%'),…"
      ]
     },
     "metadata": {},
     "output_type": "display_data"
    }
   ],
   "source": [
    "DIM_ATM = ATM_Dim.select('atm_id' , 'atm_number' , 'atm_manufacturer' , 'atm_location_id')"
   ]
  },
  {
   "cell_type": "code",
   "execution_count": 65,
   "id": "2043e44c",
   "metadata": {},
   "outputs": [
    {
     "data": {
      "application/vnd.jupyter.widget-view+json": {
       "model_id": "ff268877dae645c4a4b1d9d6879bd42e",
       "version_major": 2,
       "version_minor": 0
      },
      "text/plain": [
       "VBox()"
      ]
     },
     "metadata": {},
     "output_type": "display_data"
    },
    {
     "data": {
      "application/vnd.jupyter.widget-view+json": {
       "model_id": "",
       "version_major": 2,
       "version_minor": 0
      },
      "text/plain": [
       "FloatProgress(value=0.0, bar_style='info', description='Progress:', layout=Layout(height='25px', width='50%'),…"
      ]
     },
     "metadata": {},
     "output_type": "display_data"
    },
    {
     "name": "stdout",
     "output_type": "stream",
     "text": [
      "root\n",
      " |-- atm_id: integer (nullable = true)\n",
      " |-- atm_number: string (nullable = true)\n",
      " |-- atm_manufacturer: string (nullable = true)\n",
      " |-- atm_location_id: integer (nullable = true)"
     ]
    }
   ],
   "source": [
    "#checking schema\n",
    "\n",
    "DIM_ATM.printSchema()"
   ]
  },
  {
   "cell_type": "code",
   "execution_count": 66,
   "id": "e5d626f2",
   "metadata": {},
   "outputs": [
    {
     "data": {
      "application/vnd.jupyter.widget-view+json": {
       "model_id": "e4acb93521b2450f8806e73ef3fe0184",
       "version_major": 2,
       "version_minor": 0
      },
      "text/plain": [
       "VBox()"
      ]
     },
     "metadata": {},
     "output_type": "display_data"
    },
    {
     "data": {
      "application/vnd.jupyter.widget-view+json": {
       "model_id": "",
       "version_major": 2,
       "version_minor": 0
      },
      "text/plain": [
       "FloatProgress(value=0.0, bar_style='info', description='Progress:', layout=Layout(height='25px', width='50%'),…"
      ]
     },
     "metadata": {},
     "output_type": "display_data"
    },
    {
     "name": "stdout",
     "output_type": "stream",
     "text": [
      "+----+-------+---+----+-------+-------------------+-------+\n",
      "|Year|  Month|Day|Hour|Weekday|     full_date_time|Date_ID|\n",
      "+----+-------+---+----+-------+-------------------+-------+\n",
      "|2017|January|  1|  13| Sunday|2017-01-01 00:00:00|      1|\n",
      "|2017|January|  1|  16| Sunday|2017-01-01 00:00:00|      2|\n",
      "+----+-------+---+----+-------+-------------------+-------+\n",
      "only showing top 2 rows"
     ]
    }
   ],
   "source": [
    "# Validating the table\n",
    "Date_Dim.show(2)\n"
   ]
  },
  {
   "cell_type": "code",
   "execution_count": 67,
   "id": "da82970a",
   "metadata": {},
   "outputs": [
    {
     "data": {
      "application/vnd.jupyter.widget-view+json": {
       "model_id": "dde7c52b89c14bd9aa1ab70ca9a0f1f9",
       "version_major": 2,
       "version_minor": 0
      },
      "text/plain": [
       "VBox()"
      ]
     },
     "metadata": {},
     "output_type": "display_data"
    },
    {
     "data": {
      "application/vnd.jupyter.widget-view+json": {
       "model_id": "",
       "version_major": 2,
       "version_minor": 0
      },
      "text/plain": [
       "FloatProgress(value=0.0, bar_style='info', description='Progress:', layout=Layout(height='25px', width='50%'),…"
      ]
     },
     "metadata": {},
     "output_type": "display_data"
    },
    {
     "name": "stdout",
     "output_type": "stream",
     "text": [
      "root\n",
      " |-- Year: integer (nullable = true)\n",
      " |-- Month: string (nullable = true)\n",
      " |-- Day: integer (nullable = true)\n",
      " |-- Hour: integer (nullable = true)\n",
      " |-- Weekday: string (nullable = true)\n",
      " |-- full_date_time: timestamp (nullable = true)\n",
      " |-- Date_ID: integer (nullable = true)"
     ]
    }
   ],
   "source": [
    "Date_Dim.printSchema()"
   ]
  },
  {
   "cell_type": "markdown",
   "id": "8f69a76a",
   "metadata": {},
   "source": [
    "# Renaming Date table columns "
   ]
  },
  {
   "cell_type": "code",
   "execution_count": 68,
   "id": "4f265612",
   "metadata": {},
   "outputs": [
    {
     "data": {
      "application/vnd.jupyter.widget-view+json": {
       "model_id": "dee24789156742bcaa60c4167d280ee0",
       "version_major": 2,
       "version_minor": 0
      },
      "text/plain": [
       "VBox()"
      ]
     },
     "metadata": {},
     "output_type": "display_data"
    },
    {
     "data": {
      "application/vnd.jupyter.widget-view+json": {
       "model_id": "",
       "version_major": 2,
       "version_minor": 0
      },
      "text/plain": [
       "FloatProgress(value=0.0, bar_style='info', description='Progress:', layout=Layout(height='25px', width='50%'),…"
      ]
     },
     "metadata": {},
     "output_type": "display_data"
    }
   ],
   "source": [
    "Date_Dim = Date_Dim.withColumnRenamed('Year' , 'year')\n",
    "Date_Dim = Date_Dim.withColumnRenamed('Date_ID' , 'date_id')\n",
    "Date_Dim = Date_Dim.withColumnRenamed('Month' , 'month')\n",
    "Date_Dim = Date_Dim.withColumnRenamed('Hour' , 'hour')\n",
    "Date_Dim = Date_Dim.withColumnRenamed('Weekday' , 'weekday')\n",
    "Date_Dim = Date_Dim.withColumnRenamed('Day' , 'day')\n",
    "Date_Dim = Date_Dim.withColumnRenamed('Date_ID' , 'date_id')"
   ]
  },
  {
   "cell_type": "code",
   "execution_count": 69,
   "id": "64a39c3f",
   "metadata": {},
   "outputs": [
    {
     "data": {
      "application/vnd.jupyter.widget-view+json": {
       "model_id": "5463bb5111c44e9fadf9759d4717dbfb",
       "version_major": 2,
       "version_minor": 0
      },
      "text/plain": [
       "VBox()"
      ]
     },
     "metadata": {},
     "output_type": "display_data"
    },
    {
     "data": {
      "application/vnd.jupyter.widget-view+json": {
       "model_id": "",
       "version_major": 2,
       "version_minor": 0
      },
      "text/plain": [
       "FloatProgress(value=0.0, bar_style='info', description='Progress:', layout=Layout(height='25px', width='50%'),…"
      ]
     },
     "metadata": {},
     "output_type": "display_data"
    },
    {
     "name": "stdout",
     "output_type": "stream",
     "text": [
      "+----+-------+---+----+-------+-------------------+-------+\n",
      "|year|  month|day|hour|weekday|     full_date_time|date_id|\n",
      "+----+-------+---+----+-------+-------------------+-------+\n",
      "|2017|January|  1|  13| Sunday|2017-01-01 00:00:00|      1|\n",
      "|2017|January|  1|  16| Sunday|2017-01-01 00:00:00|      2|\n",
      "+----+-------+---+----+-------+-------------------+-------+\n",
      "only showing top 2 rows"
     ]
    }
   ],
   "source": [
    "Date_Dim.show(2)"
   ]
  },
  {
   "cell_type": "markdown",
   "id": "41fe8b85",
   "metadata": {},
   "source": [
    "# Creating Final DIM_DATE TABLE"
   ]
  },
  {
   "cell_type": "code",
   "execution_count": 70,
   "id": "1323dfd2",
   "metadata": {},
   "outputs": [
    {
     "data": {
      "application/vnd.jupyter.widget-view+json": {
       "model_id": "81952e9269014ed5afb148887e76dd3b",
       "version_major": 2,
       "version_minor": 0
      },
      "text/plain": [
       "VBox()"
      ]
     },
     "metadata": {},
     "output_type": "display_data"
    },
    {
     "data": {
      "application/vnd.jupyter.widget-view+json": {
       "model_id": "",
       "version_major": 2,
       "version_minor": 0
      },
      "text/plain": [
       "FloatProgress(value=0.0, bar_style='info', description='Progress:', layout=Layout(height='25px', width='50%'),…"
      ]
     },
     "metadata": {},
     "output_type": "display_data"
    }
   ],
   "source": [
    "DIM_DATE = Date_Dim.select('date_id', 'full_date_time' , 'year' , 'month' , 'day' , 'hour' , 'weekday')"
   ]
  },
  {
   "cell_type": "code",
   "execution_count": 71,
   "id": "d0de5b48",
   "metadata": {},
   "outputs": [
    {
     "data": {
      "application/vnd.jupyter.widget-view+json": {
       "model_id": "195d2675943a4904a03a029a0f5cd5d2",
       "version_major": 2,
       "version_minor": 0
      },
      "text/plain": [
       "VBox()"
      ]
     },
     "metadata": {},
     "output_type": "display_data"
    },
    {
     "data": {
      "application/vnd.jupyter.widget-view+json": {
       "model_id": "",
       "version_major": 2,
       "version_minor": 0
      },
      "text/plain": [
       "FloatProgress(value=0.0, bar_style='info', description='Progress:', layout=Layout(height='25px', width='50%'),…"
      ]
     },
     "metadata": {},
     "output_type": "display_data"
    },
    {
     "name": "stdout",
     "output_type": "stream",
     "text": [
      "+-------+-------------------+----+-------+---+----+-------+\n",
      "|date_id|     full_date_time|year|  month|day|hour|weekday|\n",
      "+-------+-------------------+----+-------+---+----+-------+\n",
      "|      1|2017-01-01 00:00:00|2017|January|  1|  20| Sunday|\n",
      "|      2|2017-01-01 00:00:00|2017|January|  1|  10| Sunday|\n",
      "+-------+-------------------+----+-------+---+----+-------+\n",
      "only showing top 2 rows"
     ]
    }
   ],
   "source": [
    "DIM_DATE.show(2)"
   ]
  },
  {
   "cell_type": "code",
   "execution_count": 72,
   "id": "ad9b1baf",
   "metadata": {},
   "outputs": [
    {
     "data": {
      "application/vnd.jupyter.widget-view+json": {
       "model_id": "035ae58fc6c84877a39b6b679bfe3b08",
       "version_major": 2,
       "version_minor": 0
      },
      "text/plain": [
       "VBox()"
      ]
     },
     "metadata": {},
     "output_type": "display_data"
    },
    {
     "data": {
      "application/vnd.jupyter.widget-view+json": {
       "model_id": "",
       "version_major": 2,
       "version_minor": 0
      },
      "text/plain": [
       "FloatProgress(value=0.0, bar_style='info', description='Progress:', layout=Layout(height='25px', width='50%'),…"
      ]
     },
     "metadata": {},
     "output_type": "display_data"
    },
    {
     "name": "stdout",
     "output_type": "stream",
     "text": [
      "+---------+-----------+\n",
      "|card_type|CardType_ID|\n",
      "+---------+-----------+\n",
      "|   CIRRUS|          1|\n",
      "|  Dankort|          2|\n",
      "+---------+-----------+\n",
      "only showing top 2 rows"
     ]
    }
   ],
   "source": [
    "#CardType_Dim\n",
    "\n",
    "\n",
    "CardType_Dim.show(2)"
   ]
  },
  {
   "cell_type": "code",
   "execution_count": 73,
   "id": "a5fdbbdb",
   "metadata": {},
   "outputs": [
    {
     "data": {
      "application/vnd.jupyter.widget-view+json": {
       "model_id": "56171f9d5c12439c89185fd3c76b76b8",
       "version_major": 2,
       "version_minor": 0
      },
      "text/plain": [
       "VBox()"
      ]
     },
     "metadata": {},
     "output_type": "display_data"
    },
    {
     "data": {
      "application/vnd.jupyter.widget-view+json": {
       "model_id": "",
       "version_major": 2,
       "version_minor": 0
      },
      "text/plain": [
       "FloatProgress(value=0.0, bar_style='info', description='Progress:', layout=Layout(height='25px', width='50%'),…"
      ]
     },
     "metadata": {},
     "output_type": "display_data"
    }
   ],
   "source": [
    "CardType_Dim = CardType_Dim.withColumnRenamed('CardType_ID' , 'card_type_id')\n",
    "\n"
   ]
  },
  {
   "cell_type": "markdown",
   "id": "77fcacab",
   "metadata": {},
   "source": [
    "# Creating Final DIM_CARD_TYPE Table"
   ]
  },
  {
   "cell_type": "code",
   "execution_count": 74,
   "id": "10e2840b",
   "metadata": {},
   "outputs": [
    {
     "data": {
      "application/vnd.jupyter.widget-view+json": {
       "model_id": "398f97b210c84d63941a77d9ba135ce5",
       "version_major": 2,
       "version_minor": 0
      },
      "text/plain": [
       "VBox()"
      ]
     },
     "metadata": {},
     "output_type": "display_data"
    },
    {
     "data": {
      "application/vnd.jupyter.widget-view+json": {
       "model_id": "",
       "version_major": 2,
       "version_minor": 0
      },
      "text/plain": [
       "FloatProgress(value=0.0, bar_style='info', description='Progress:', layout=Layout(height='25px', width='50%'),…"
      ]
     },
     "metadata": {},
     "output_type": "display_data"
    },
    {
     "name": "stdout",
     "output_type": "stream",
     "text": [
      "+------------+---------+\n",
      "|card_type_id|card_type|\n",
      "+------------+---------+\n",
      "|           1|   CIRRUS|\n",
      "|           2|  Dankort|\n",
      "+------------+---------+\n",
      "only showing top 2 rows"
     ]
    }
   ],
   "source": [
    "DIM_CARD_TYPE = CardType_Dim.select('card_type_id' , 'card_type')\n",
    "\n",
    "DIM_CARD_TYPE.show(2)"
   ]
  },
  {
   "cell_type": "code",
   "execution_count": 75,
   "id": "170c89db",
   "metadata": {},
   "outputs": [
    {
     "data": {
      "application/vnd.jupyter.widget-view+json": {
       "model_id": "d48e53fcd53045a287435bd2da586097",
       "version_major": 2,
       "version_minor": 0
      },
      "text/plain": [
       "VBox()"
      ]
     },
     "metadata": {},
     "output_type": "display_data"
    },
    {
     "data": {
      "application/vnd.jupyter.widget-view+json": {
       "model_id": "",
       "version_major": 2,
       "version_minor": 0
      },
      "text/plain": [
       "FloatProgress(value=0.0, bar_style='info', description='Progress:', layout=Layout(height='25px', width='50%'),…"
      ]
     },
     "metadata": {},
     "output_type": "display_data"
    },
    {
     "name": "stdout",
     "output_type": "stream",
     "text": [
      "root\n",
      " |-- card_type_id: integer (nullable = true)\n",
      " |-- card_type: string (nullable = true)"
     ]
    }
   ],
   "source": [
    "DIM_CARD_TYPE.printSchema()"
   ]
  },
  {
   "cell_type": "code",
   "execution_count": 76,
   "id": "4744cea7",
   "metadata": {},
   "outputs": [
    {
     "data": {
      "application/vnd.jupyter.widget-view+json": {
       "model_id": "baa6fccc3e8c4a309da898ec8c1baafd",
       "version_major": 2,
       "version_minor": 0
      },
      "text/plain": [
       "VBox()"
      ]
     },
     "metadata": {},
     "output_type": "display_data"
    },
    {
     "data": {
      "application/vnd.jupyter.widget-view+json": {
       "model_id": "",
       "version_major": 2,
       "version_minor": 0
      },
      "text/plain": [
       "FloatProgress(value=0.0, bar_style='info', description='Progress:', layout=Layout(height='25px', width='50%'),…"
      ]
     },
     "metadata": {},
     "output_type": "display_data"
    },
    {
     "name": "stdout",
     "output_type": "stream",
     "text": [
      "root\n",
      " |-- Location_Id: integer (nullable = true)\n",
      " |-- ATM_Dim_Id: integer (nullable = true)\n",
      " |-- Date_Id: integer (nullable = true)\n",
      " |-- CardType_Id: integer (nullable = true)\n",
      " |-- atm_status: string (nullable = true)\n",
      " |-- currency: string (nullable = true)\n",
      " |-- service: string (nullable = true)\n",
      " |-- transaction_amount: integer (nullable = true)\n",
      " |-- message_code: string (nullable = true)\n",
      " |-- message_text: string (nullable = true)\n",
      " |-- rain_3h: double (nullable = true)\n",
      " |-- clouds_all: integer (nullable = true)\n",
      " |-- weather_id: integer (nullable = true)\n",
      " |-- weather_main: string (nullable = true)\n",
      " |-- weather_description: string (nullable = true)\n",
      " |-- trans_id: integer (nullable = true)"
     ]
    }
   ],
   "source": [
    "Fact_Data.printSchema()"
   ]
  },
  {
   "cell_type": "code",
   "execution_count": 77,
   "id": "0994633b",
   "metadata": {},
   "outputs": [
    {
     "data": {
      "application/vnd.jupyter.widget-view+json": {
       "model_id": "b2df67f8e5dd46ab921d46df004fb580",
       "version_major": 2,
       "version_minor": 0
      },
      "text/plain": [
       "VBox()"
      ]
     },
     "metadata": {},
     "output_type": "display_data"
    },
    {
     "data": {
      "application/vnd.jupyter.widget-view+json": {
       "model_id": "",
       "version_major": 2,
       "version_minor": 0
      },
      "text/plain": [
       "FloatProgress(value=0.0, bar_style='info', description='Progress:', layout=Layout(height='25px', width='50%'),…"
      ]
     },
     "metadata": {},
     "output_type": "display_data"
    }
   ],
   "source": [
    "Fact_Data = Fact_Data.withColumnRenamed('Location_Id' , 'weather_loc_id')\n",
    "Fact_Data = Fact_Data.withColumnRenamed('ATM_Dim_Id' , 'atm_id')\n",
    "Fact_Data = Fact_Data.withColumnRenamed('Date_Id' , 'date_id')\n",
    "Fact_Data = Fact_Data.withColumnRenamed('CardType_Id' , 'card_type_id')"
   ]
  },
  {
   "cell_type": "markdown",
   "id": "cef8a030",
   "metadata": {},
   "source": [
    "# Creating Final FACT_ATM_TRANS Table"
   ]
  },
  {
   "cell_type": "code",
   "execution_count": 78,
   "id": "a84a6aed",
   "metadata": {},
   "outputs": [
    {
     "data": {
      "application/vnd.jupyter.widget-view+json": {
       "model_id": "02f69f88ca274e4e8244c03efe61a581",
       "version_major": 2,
       "version_minor": 0
      },
      "text/plain": [
       "VBox()"
      ]
     },
     "metadata": {},
     "output_type": "display_data"
    },
    {
     "data": {
      "application/vnd.jupyter.widget-view+json": {
       "model_id": "",
       "version_major": 2,
       "version_minor": 0
      },
      "text/plain": [
       "FloatProgress(value=0.0, bar_style='info', description='Progress:', layout=Layout(height='25px', width='50%'),…"
      ]
     },
     "metadata": {},
     "output_type": "display_data"
    }
   ],
   "source": [
    "FACT_ATM_TRANS = Fact_Data.select('trans_id' , 'atm_id' , 'weather_loc_id' , 'date_id' , 'card_type_id', 'atm_status',\n",
    "                       'currency' , 'service' , 'transaction_amount' , 'message_code' , 'message_text',\n",
    "                       'rain_3h', 'clouds_all' , 'weather_id' , 'weather_main' , 'weather_description')"
   ]
  },
  {
   "cell_type": "code",
   "execution_count": 79,
   "id": "8b543bcd",
   "metadata": {},
   "outputs": [
    {
     "data": {
      "application/vnd.jupyter.widget-view+json": {
       "model_id": "b009daa072ff4a6487915e31f6c68192",
       "version_major": 2,
       "version_minor": 0
      },
      "text/plain": [
       "VBox()"
      ]
     },
     "metadata": {},
     "output_type": "display_data"
    },
    {
     "data": {
      "application/vnd.jupyter.widget-view+json": {
       "model_id": "",
       "version_major": 2,
       "version_minor": 0
      },
      "text/plain": [
       "FloatProgress(value=0.0, bar_style='info', description='Progress:', layout=Layout(height='25px', width='50%'),…"
      ]
     },
     "metadata": {},
     "output_type": "display_data"
    },
    {
     "name": "stdout",
     "output_type": "stream",
     "text": [
      "+--------+------+--------------+-------+------------+----------+--------+----------+------------------+------------+------------+-------+----------+----------+------------+-------------------+\n",
      "|trans_id|atm_id|weather_loc_id|date_id|card_type_id|atm_status|currency|   service|transaction_amount|message_code|message_text|rain_3h|clouds_all|weather_id|weather_main|weather_description|\n",
      "+--------+------+--------------+-------+------------+----------+--------+----------+------------------+------------+------------+-------+----------+----------+------------+-------------------+\n",
      "|       1|    43|             1|     20|           8|    Active|     DKK|Withdrawal|              9016|        null|        null|   0.59|        92|       500|        Rain|         light rain|\n",
      "|       2|    43|             1|     20|           8|    Active|     DKK|Withdrawal|              5498|        null|        null|   0.59|        92|       500|        Rain|         light rain|\n",
      "+--------+------+--------------+-------+------------+----------+--------+----------+------------------+------------+------------+-------+----------+----------+------------+-------------------+\n",
      "only showing top 2 rows"
     ]
    }
   ],
   "source": [
    "FACT_ATM_TRANS.show(2)"
   ]
  },
  {
   "cell_type": "code",
   "execution_count": 87,
   "id": "7ac0d0b8",
   "metadata": {},
   "outputs": [
    {
     "data": {
      "application/vnd.jupyter.widget-view+json": {
       "model_id": "5ffe07fef9684b24b9257dc504ab64bc",
       "version_major": 2,
       "version_minor": 0
      },
      "text/plain": [
       "VBox()"
      ]
     },
     "metadata": {},
     "output_type": "display_data"
    },
    {
     "data": {
      "application/vnd.jupyter.widget-view+json": {
       "model_id": "",
       "version_major": 2,
       "version_minor": 0
      },
      "text/plain": [
       "FloatProgress(value=0.0, bar_style='info', description='Progress:', layout=Layout(height='25px', width='50%'),…"
      ]
     },
     "metadata": {},
     "output_type": "display_data"
    }
   ],
   "source": [
    "# making some changes in message text columns\n",
    "\n",
    "FACT_ATM_TRANS = FACT_ATM_TRANS.withColumn('message_text' , regexp_replace('message_text', ',', '|'))"
   ]
  },
  {
   "cell_type": "markdown",
   "id": "6975e33a",
   "metadata": {},
   "source": [
    "# Print all tables count to verify"
   ]
  },
  {
   "cell_type": "code",
   "execution_count": 80,
   "id": "4eea3a20",
   "metadata": {},
   "outputs": [
    {
     "data": {
      "application/vnd.jupyter.widget-view+json": {
       "model_id": "fb0eff3917d04d8094bc933d1f902b61",
       "version_major": 2,
       "version_minor": 0
      },
      "text/plain": [
       "VBox()"
      ]
     },
     "metadata": {},
     "output_type": "display_data"
    },
    {
     "data": {
      "application/vnd.jupyter.widget-view+json": {
       "model_id": "",
       "version_major": 2,
       "version_minor": 0
      },
      "text/plain": [
       "FloatProgress(value=0.0, bar_style='info', description='Progress:', layout=Layout(height='25px', width='50%'),…"
      ]
     },
     "metadata": {},
     "output_type": "display_data"
    },
    {
     "name": "stdout",
     "output_type": "stream",
     "text": [
      "Location table count:  109\n",
      "ATM Table count:  113\n",
      "date table count:  8685\n",
      "Card table count:  12\n",
      "Fact table count:  2468572"
     ]
    }
   ],
   "source": [
    "# Checking count for all tables:\n",
    "\n",
    "\n",
    "print(\"Location table count: \",DIM_Location.count())\n",
    "print(\"ATM Table count: \" , DIM_ATM.count())\n",
    "print(\"date table count: \", DIM_DATE.count())\n",
    "print(\"Card table count: \", DIM_CARD_TYPE.count())\n",
    "print(\"Fact table count: \", FACT_ATM_TRANS.count())"
   ]
  },
  {
   "cell_type": "markdown",
   "id": "13da7726",
   "metadata": {},
   "source": [
    "## Exporting the DIM_Location table data to S3 Bucket:"
   ]
  },
  {
   "cell_type": "code",
   "execution_count": 88,
   "id": "91389b7f",
   "metadata": {},
   "outputs": [
    {
     "data": {
      "application/vnd.jupyter.widget-view+json": {
       "model_id": "90494232ecf34aff9cef81b032411614",
       "version_major": 2,
       "version_minor": 0
      },
      "text/plain": [
       "VBox()"
      ]
     },
     "metadata": {},
     "output_type": "display_data"
    },
    {
     "data": {
      "application/vnd.jupyter.widget-view+json": {
       "model_id": "",
       "version_major": 2,
       "version_minor": 0
      },
      "text/plain": [
       "FloatProgress(value=0.0, bar_style='info', description='Progress:', layout=Layout(height='25px', width='50%'),…"
      ]
     },
     "metadata": {},
     "output_type": "display_data"
    }
   ],
   "source": [
    "DIM_Location.coalesce(1).write.format('csv').option('header','false').save('s3://mynewbucket1561/DIM_Location/', mode='overwrite')"
   ]
  },
  {
   "cell_type": "markdown",
   "id": "d73c2e6e",
   "metadata": {},
   "source": [
    "## Exporting the DIM_ATM table data to S3 Bucket:"
   ]
  },
  {
   "cell_type": "code",
   "execution_count": 89,
   "id": "39d7c3ed",
   "metadata": {},
   "outputs": [
    {
     "data": {
      "application/vnd.jupyter.widget-view+json": {
       "model_id": "e6c710779fe74a508f6e5605bd335c59",
       "version_major": 2,
       "version_minor": 0
      },
      "text/plain": [
       "VBox()"
      ]
     },
     "metadata": {},
     "output_type": "display_data"
    },
    {
     "data": {
      "application/vnd.jupyter.widget-view+json": {
       "model_id": "",
       "version_major": 2,
       "version_minor": 0
      },
      "text/plain": [
       "FloatProgress(value=0.0, bar_style='info', description='Progress:', layout=Layout(height='25px', width='50%'),…"
      ]
     },
     "metadata": {},
     "output_type": "display_data"
    }
   ],
   "source": [
    "DIM_ATM.coalesce(1).write.format('csv').option('header','false').save('s3://mynewbucket1561/DIM_ATM/', mode='overwrite')"
   ]
  },
  {
   "cell_type": "markdown",
   "id": "bf72468a",
   "metadata": {},
   "source": [
    "## Exporting the DIM_DATE table data to S3 Bucket:"
   ]
  },
  {
   "cell_type": "code",
   "execution_count": 90,
   "id": "a75bdb90",
   "metadata": {},
   "outputs": [
    {
     "data": {
      "application/vnd.jupyter.widget-view+json": {
       "model_id": "24427d1b1c674d088d5fb200e117cee2",
       "version_major": 2,
       "version_minor": 0
      },
      "text/plain": [
       "VBox()"
      ]
     },
     "metadata": {},
     "output_type": "display_data"
    },
    {
     "data": {
      "application/vnd.jupyter.widget-view+json": {
       "model_id": "",
       "version_major": 2,
       "version_minor": 0
      },
      "text/plain": [
       "FloatProgress(value=0.0, bar_style='info', description='Progress:', layout=Layout(height='25px', width='50%'),…"
      ]
     },
     "metadata": {},
     "output_type": "display_data"
    }
   ],
   "source": [
    "DIM_DATE.coalesce(1).write.format('csv').option('header','false').save('s3://mynewbucket1561/DIM_DATE/', mode='overwrite')"
   ]
  },
  {
   "cell_type": "markdown",
   "id": "7cbee60e",
   "metadata": {},
   "source": [
    "## Exporting the DIM_CARD_TYPE table data to S3 Bucket:"
   ]
  },
  {
   "cell_type": "code",
   "execution_count": 92,
   "id": "3ff89331",
   "metadata": {},
   "outputs": [
    {
     "data": {
      "application/vnd.jupyter.widget-view+json": {
       "model_id": "4c9c79a2312b463e8a8bb8de224de727",
       "version_major": 2,
       "version_minor": 0
      },
      "text/plain": [
       "VBox()"
      ]
     },
     "metadata": {},
     "output_type": "display_data"
    },
    {
     "data": {
      "application/vnd.jupyter.widget-view+json": {
       "model_id": "",
       "version_major": 2,
       "version_minor": 0
      },
      "text/plain": [
       "FloatProgress(value=0.0, bar_style='info', description='Progress:', layout=Layout(height='25px', width='50%'),…"
      ]
     },
     "metadata": {},
     "output_type": "display_data"
    }
   ],
   "source": [
    "DIM_CARD_TYPE.coalesce(1).write.format('csv').option('header','false').save('s3://mynewbucket1561/DIM_CARD_TYPE/', mode='overwrite')"
   ]
  },
  {
   "cell_type": "markdown",
   "id": "7495dd9d",
   "metadata": {},
   "source": [
    "## Exporting the FACT_ATM_TRANS table data to S3 Bucket:"
   ]
  },
  {
   "cell_type": "code",
   "execution_count": 91,
   "id": "344a8f13",
   "metadata": {},
   "outputs": [
    {
     "data": {
      "application/vnd.jupyter.widget-view+json": {
       "model_id": "0c2577fb14d64caea898bc28d7053e93",
       "version_major": 2,
       "version_minor": 0
      },
      "text/plain": [
       "VBox()"
      ]
     },
     "metadata": {},
     "output_type": "display_data"
    },
    {
     "data": {
      "application/vnd.jupyter.widget-view+json": {
       "model_id": "",
       "version_major": 2,
       "version_minor": 0
      },
      "text/plain": [
       "FloatProgress(value=0.0, bar_style='info', description='Progress:', layout=Layout(height='25px', width='50%'),…"
      ]
     },
     "metadata": {},
     "output_type": "display_data"
    }
   ],
   "source": [
    "FACT_ATM_TRANS.coalesce(1).write.format('csv').option('header','false').save('s3://mynewbucket1561/FACT_ATM_TRANS/', mode='overwrite')"
   ]
  },
  {
   "cell_type": "code",
   "execution_count": null,
   "id": "644ef175",
   "metadata": {},
   "outputs": [],
   "source": []
  },
  {
   "cell_type": "code",
   "execution_count": null,
   "id": "3be6fc1f",
   "metadata": {},
   "outputs": [],
   "source": []
  },
  {
   "cell_type": "code",
   "execution_count": null,
   "id": "42cf3e01",
   "metadata": {},
   "outputs": [],
   "source": []
  },
  {
   "cell_type": "code",
   "execution_count": null,
   "id": "da38951f",
   "metadata": {},
   "outputs": [],
   "source": []
  },
  {
   "cell_type": "code",
   "execution_count": null,
   "id": "65780846",
   "metadata": {},
   "outputs": [],
   "source": []
  },
  {
   "cell_type": "code",
   "execution_count": null,
   "id": "af2f768c",
   "metadata": {},
   "outputs": [],
   "source": []
  },
  {
   "cell_type": "code",
   "execution_count": null,
   "id": "7c256da8",
   "metadata": {},
   "outputs": [],
   "source": []
  },
  {
   "cell_type": "code",
   "execution_count": null,
   "id": "d22883aa",
   "metadata": {},
   "outputs": [],
   "source": []
  },
  {
   "cell_type": "code",
   "execution_count": null,
   "id": "1a741fc5",
   "metadata": {},
   "outputs": [],
   "source": []
  },
  {
   "cell_type": "code",
   "execution_count": null,
   "id": "548efb87",
   "metadata": {},
   "outputs": [],
   "source": []
  },
  {
   "cell_type": "code",
   "execution_count": null,
   "id": "abc797f9",
   "metadata": {},
   "outputs": [],
   "source": []
  },
  {
   "cell_type": "code",
   "execution_count": null,
   "id": "069c84f2",
   "metadata": {},
   "outputs": [],
   "source": []
  },
  {
   "cell_type": "code",
   "execution_count": null,
   "id": "d5ab424b",
   "metadata": {},
   "outputs": [],
   "source": []
  },
  {
   "cell_type": "code",
   "execution_count": null,
   "id": "bb26f292",
   "metadata": {},
   "outputs": [],
   "source": []
  },
  {
   "cell_type": "code",
   "execution_count": null,
   "id": "7c7f8949",
   "metadata": {},
   "outputs": [],
   "source": []
  },
  {
   "cell_type": "code",
   "execution_count": null,
   "id": "e2ee27ae",
   "metadata": {},
   "outputs": [],
   "source": []
  },
  {
   "cell_type": "code",
   "execution_count": null,
   "id": "fcf09d9b",
   "metadata": {},
   "outputs": [],
   "source": []
  },
  {
   "cell_type": "code",
   "execution_count": null,
   "id": "d7282d22",
   "metadata": {},
   "outputs": [],
   "source": []
  }
 ],
 "metadata": {
  "kernelspec": {
   "display_name": "PySpark",
   "language": "",
   "name": "pysparkkernel"
  },
  "language_info": {
   "codemirror_mode": {
    "name": "python",
    "version": 2
   },
   "mimetype": "text/x-python",
   "name": "pyspark",
   "pygments_lexer": "python2"
  }
 },
 "nbformat": 4,
 "nbformat_minor": 5
}
